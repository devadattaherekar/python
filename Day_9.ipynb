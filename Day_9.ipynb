{
 "cells": [
  {
   "cell_type": "code",
   "execution_count": null,
   "id": "15e49031",
   "metadata": {},
   "outputs": [],
   "source": [
    "import os\n",
    "\n",
    "print(os.walk(\"test_project\"))\n",
    "#print(list(os.walk(\"test_project\")))\n",
    "    \n",
    "for path,dirs,files in os.walk(\"test_project\"):\n",
    "    #print(path)\n",
    "    if any(dirs):\n",
    "        for dir in dirs:\n",
    "            print(dir,end=\" \")\n",
    "    if any(files):\n",
    "        for file in files:\n",
    "            print(file,end=\" \")"
   ]
  },
  {
   "cell_type": "code",
   "execution_count": null,
   "id": "b5d24ea2",
   "metadata": {},
   "outputs": [],
   "source": [
    "%%writefile file1.txt\n",
    "This is my text file. I am in TomTom\n",
    "I am using jupyter notebook to create it!"
   ]
  },
  {
   "cell_type": "code",
   "execution_count": null,
   "id": "d7dff68f",
   "metadata": {},
   "outputs": [],
   "source": [
    "pwd"
   ]
  },
  {
   "cell_type": "code",
   "execution_count": null,
   "id": "67598e30",
   "metadata": {},
   "outputs": [],
   "source": [
    "try:\n",
    "    fp=open(\"file1.txt\")\n",
    "except FileNotFoundError as msg:\n",
    "    print(msg)\n",
    "else:\n",
    "    print(fp.read())\n",
    "    fp.close()"
   ]
  },
  {
   "cell_type": "code",
   "execution_count": null,
   "id": "8bd4b259",
   "metadata": {},
   "outputs": [],
   "source": [
    "fp=open(\"file1.txt\",\"a\") # r w a r+ w+ a+\n",
    "if fp.readable():\n",
    "    print(fp.read())\n",
    "    fp.close()\n",
    "else:\n",
    "    print(\"File is not readable\")"
   ]
  },
  {
   "cell_type": "code",
   "execution_count": null,
   "id": "7b183a88",
   "metadata": {},
   "outputs": [],
   "source": [
    "# context manager with statements\n",
    "with open(\"file1.txt\",\"r\") as fp:\n",
    "    print(fp.read())\n",
    "    fp.seek(0)\n",
    "    print(fp.read())\n",
    "    fp.seek(22)\n",
    "    print(fp.read())\n",
    "with open(\"file1.txt\",\"r\") as fp:\n",
    "    print(fp.read())"
   ]
  },
  {
   "cell_type": "code",
   "execution_count": null,
   "id": "3224b7de",
   "metadata": {},
   "outputs": [],
   "source": [
    "with open(\"rhyme.txt\",\"w\") as fp:\n",
    "    if fp.writable():\n",
    "        fp.write(\"Thank you GOD for birds thy sing\\n\")\n",
    "        fp.write(\"Thank you GOD for world so sweet\\n\")\n",
    "        fp.write(\"Thank you GOD for food we eat\\n\")\n",
    "        fp.write(\"Thank you GOD for everything!\\n\")\n"
   ]
  },
  {
   "cell_type": "code",
   "execution_count": null,
   "id": "b747f0fb",
   "metadata": {},
   "outputs": [],
   "source": [
    "with open(\"gratitude.txt\",\"w\") as fp:\n",
    "    if fp.writable():\n",
    "        collection=[\"Thank you GOD for birds thy sing\",\n",
    "                    \"Thank you GOD for world so sweet\",\n",
    "                    \"Thank you GOD for food we eat\",\n",
    "                    \"Thank you GOD for everything!\"\n",
    "                   ]\n",
    "        #fp.writelines(collection)\n",
    "        for line in collection:\n",
    "            fp.write(line+\"\\n\")"
   ]
  },
  {
   "cell_type": "code",
   "execution_count": null,
   "id": "493dc587",
   "metadata": {},
   "outputs": [],
   "source": [
    "with open(\"rhyme.txt\",\"r\") as fp:\n",
    "    #data=fp.read()\n",
    "    #print(type(data))\n",
    "    data=fp.readline()\n",
    "    print(type(data))\n",
    "    print(data.strip(\"\\n\"))\n",
    "    data=fp.readline()\n",
    "    print(data.strip(\"\\n\"))\n",
    "    print(fp.readline().strip(\"\\n\"))\n",
    "    print(fp.readline().strip(\"\\n\"))"
   ]
  },
  {
   "cell_type": "code",
   "execution_count": null,
   "id": "ad622038",
   "metadata": {},
   "outputs": [],
   "source": [
    "count=0\n",
    "with open(\"rhyme.txt\",\"r\") as fp:\n",
    "    line=fp.readline()\n",
    "    while line:\n",
    "        if \"GOD\" in line:\n",
    "            count+=1\n",
    "        line=fp.readline()\n",
    "    print(f\"GOD appears {count} times in rhyme.txt\")"
   ]
  },
  {
   "cell_type": "code",
   "execution_count": null,
   "id": "04df14a1",
   "metadata": {},
   "outputs": [],
   "source": [
    "with open(\"rhyme.txt\",\"r\") as fp:\n",
    "    data=fp.readlines()\n",
    "    print(type(data))\n",
    "    print(data)\n",
    "    #character=input(\"Enter the character \")\n",
    "    for line in data:\n",
    "        #if character in line:\n",
    "            #print(f\"{character} is present\")\n",
    "        print(line,end=\" \")\n",
    "    print(\"First line of the file is...\",data[0]) # read operation\n",
    "    print(\"Last line of the file is...\",data[-1])\n",
    "    print(\"Total number of lines in file are \",len(data))\n",
    "    for line in data[1:3]: # read operation\n",
    "        print(line,end=\" \")\n",
    "    del data[0] # delete operation\n",
    "    data.insert(2,\"Thank you GOD for wonderful job\\n\") # insert operation\n",
    "    #data.pop(0) # delete operation\n",
    "    #data.remove('Thank you GOD for world so sweet\\n') # delete operation\n",
    "    data[2]=\"Thank you farmers\\n\" # upadate operation\n",
    "    print(data)\n",
    "    data.reverse()\n",
    "    \n",
    "with open(\"reverse_rhyme.txt\",\"w\") as fs:\n",
    "    for line in data:\n",
    "        fs.write(line)"
   ]
  },
  {
   "cell_type": "code",
   "execution_count": null,
   "id": "bca90d0d",
   "metadata": {},
   "outputs": [],
   "source": [
    "try:\n",
    "    source=input(\"Enter source file \")\n",
    "    destination=input(\"Enter destination file \")\n",
    "    with open(source,\"r\") as fs:\n",
    "        data=fs.read()\n",
    "    with open(destination,\"w\") as ft:\n",
    "        ft.write(data)\n",
    "except FileNotFoundError as msg:\n",
    "    print(msg)\n",
    "else:\n",
    "    print(f\"Source file {source} copied to {destination}\")"
   ]
  },
  {
   "cell_type": "code",
   "execution_count": null,
   "id": "349449fb",
   "metadata": {},
   "outputs": [],
   "source": [
    "with open(\"cricketers.csv\",\"r\") as fs:\n",
    "    data=fs.readlines()\n",
    "    print(data)\n",
    "    total=0\n",
    "    for each_record in data:\n",
    "        #print(each_record.strip(\"\\n\"))\n",
    "        parse_record=each_record.strip(\"\\n\").split(\",\")\n",
    "        print(parse_record)\n",
    "        total+=int(parse_record[3])\n",
    "        average=total/len(data)\n",
    "    print(\"Average of 4th col is \",average)\n",
    "    print(\"Average of 4th col is \",total)"
   ]
  },
  {
   "cell_type": "code",
   "execution_count": null,
   "id": "bbcbda91",
   "metadata": {},
   "outputs": [],
   "source": [
    "import csv \n",
    "\n",
    "with open(\"cricketers.csv\",\"r\") as fs:\n",
    "    #print(dir(csv))\n",
    "    data=csv.reader(fs,delimiter=\",\")\n",
    "    #print(data,type(data))\n",
    "    all_records=list(data)\n",
    "    #print(\"First record is \",all_records[0])\n",
    "    #print(\"Last record is \",all_records[-1])\n",
    "    total=0\n",
    "    for each_record in all_records:\n",
    "        #print(each_record)\n",
    "         total+=int(each_record[3])\n",
    "    print(\"Total is \",total)"
   ]
  },
  {
   "cell_type": "code",
   "execution_count": null,
   "id": "76a28f15",
   "metadata": {},
   "outputs": [],
   "source": [
    "import csv \n",
    "\n",
    "with open(\"myplayers.csv\",\"r\") as fs:\n",
    "    data=csv.reader(fs,delimiter=\",\")\n",
    "    total=0\n",
    "    header=next(data)\n",
    "    print(\"Header is \",header)\n",
    "    for each_record in data:\n",
    "         total+=int(each_record[3])\n",
    "    print(\"Total is \",total)"
   ]
  },
  {
   "cell_type": "code",
   "execution_count": null,
   "id": "59beee9e",
   "metadata": {},
   "outputs": [],
   "source": [
    "import csv \n",
    "\n",
    "with open(\"players.csv\",\"w\",newline=\"\") as ft: # use newline to stop inserting blank line after every rec\n",
    "    #print(dir(csv))\n",
    "    data=csv.writer(ft) \n",
    "    #print(dir(data))\n",
    "    data.writerow([333,\"gayle\",\"westindies\"]) # will insert blank line after every record\n",
    "    data.writerow([223,\"hardik\",\"india\"]) # writerow takes list as argument\n",
    "    data.writerow([99,\"sehwag\",\"india\"])"
   ]
  },
  {
   "cell_type": "code",
   "execution_count": null,
   "id": "9a47d75c",
   "metadata": {},
   "outputs": [],
   "source": [
    "import csv \n",
    "\n",
    "with open(\"players.csv\",\"r\") as ft:\n",
    "    data=csv.writer(ft) \n",
    "    collection=[[333,\"gayle\",\"westindies\"],[99,\"sehwag\",\"india\"],[223,\"hardik\",\"india\"]]\n",
    "    data.writerows(collection) # write multiple rows"
   ]
  },
  {
   "cell_type": "code",
   "execution_count": null,
   "id": "6cc622b0",
   "metadata": {},
   "outputs": [],
   "source": [
    "import csv \n",
    "\n",
    "with open(\"players.csv\",\"r\") as ft:\n",
    "    data=csv.reader(ft,delimiter=\",\")\n",
    "    data=list(data)\n",
    "    del data[0]\n",
    "    print(data)\n",
    "    \n",
    "with open(\"players1.csv\",\"w\",newline=\"\") as ft:\n",
    "    writerecord=csv.writer(ft)\n",
    "    for record in data:\n",
    "        writerecord.writerow(record)"
   ]
  },
  {
   "cell_type": "code",
   "execution_count": 2,
   "id": "1b4de918",
   "metadata": {},
   "outputs": [
    {
     "name": "stdout",
     "output_type": "stream",
     "text": [
      "Total movies 1450\n",
      "Total number of Science Fiction movies 91\n",
      "Total number of Sports movies 43\n"
     ]
    },
    {
     "data": {
      "image/png": "[encoded data removed]",
      "text/plain": [
       "<Figure size 432x288 with 1 Axes>"
      ]
     },
     "metadata": {},
     "output_type": "display_data"
    }
   ],
   "source": [
    "import csv\n",
    "import matplotlib.pyplot as plt\n",
    "\n",
    "Sports_titles=[]\n",
    "Science_fiction=[]\n",
    "\n",
    "with open(\"disney_plus_titles.csv\",\"r\",encoding='utf-8') as ft:\n",
    "    data=csv.reader(ft,delimiter=\",\")\n",
    "    next(data) # skip the header\n",
    "    total=0\n",
    "    for each_record in data:\n",
    "        #print(each_record[2],each_record[10])\n",
    "        if \"Science Fiction\" in each_record[10]:\n",
    "            Science_fiction.append(each_record[2])\n",
    "        if \"Sports\" in each_record[10]:\n",
    "            Sports_titles.append(each_record[2])\n",
    "        total+=1\n",
    "            \n",
    "print(\"Total movies\",total)\n",
    "print(\"Total number of Science Fiction movies\",len(Science_fiction))\n",
    "print(\"Total number of Sports movies\",len(Sports_titles))\n",
    "#print(Sports_titles)\n",
    "plt.pie([len(Science_fiction),len(Sports_titles)],labels=[\"Science Fiction\",\"Sports\"])\n",
    "plt.show()"
   ]
  },
  {
   "cell_type": "code",
   "execution_count": null,
   "id": "cd0f126c",
   "metadata": {},
   "outputs": [],
   "source": []
  }
 ],
 "metadata": {
  "kernelspec": {
   "display_name": "Python 3 (ipykernel)",
   "language": "python",
   "name": "python3"
  },
  "language_info": {
   "codemirror_mode": {
    "name": "ipython",
    "version": 3
   },
   "file_extension": ".py",
   "mimetype": "text/x-python",
   "name": "python",
   "nbconvert_exporter": "python",
   "pygments_lexer": "ipython3",
   "version": "3.9.12"
  }
 },
 "nbformat": 4,
 "nbformat_minor": 5
}
