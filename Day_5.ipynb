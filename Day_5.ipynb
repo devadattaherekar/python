{
 "cells": [
  {
   "cell_type": "code",
   "execution_count": null,
   "id": "032f0f8f",
   "metadata": {},
   "outputs": [],
   "source": [
    "def add(x,y):\n",
    "    return x+y\n",
    "\n",
    "print(add(10,20)) # unnamed args\n",
    "print(add(x=10,y=20)) # kwargs\n",
    "print(add(100,y=200)) # mix of both unamed / kwargs\n",
    "#print(add(x=100,y)) # SyntaxError: positional argument follows keyword argument"
   ]
  },
  {
   "cell_type": "code",
   "execution_count": null,
   "id": "61a0f06d",
   "metadata": {},
   "outputs": [],
   "source": [
    "def function(*jack):\n",
    "    print(jack,type(jack))\n",
    "    for value in jack:\n",
    "        print(value,end=\" \")\n",
    "\n",
    "function(1,2,3,4,5)\n",
    "function(1000,2000)\n",
    "function()"
   ]
  },
  {
   "cell_type": "code",
   "execution_count": null,
   "id": "ebc2c170",
   "metadata": {},
   "outputs": [],
   "source": [
    "def add(*args): # Note: use * to create a tuple which can hold va_args\n",
    "    total=0\n",
    "    for value in args:\n",
    "        total+=value\n",
    "    return total\n",
    "\n",
    "print(add(1,2,3,4,5))\n",
    "print(add(100,200))\n",
    "print(add())"
   ]
  },
  {
   "cell_type": "code",
   "execution_count": null,
   "id": "d74273fd",
   "metadata": {},
   "outputs": [],
   "source": [
    "#Note:order is tuple first and only then dict else it is syntax error!\n",
    "def function(*rose,**jack): # Note: ** It creates a dictionary \n",
    "    print(rose,type(rose)) # tuple\n",
    "    for value in rose: # unpack tuple\n",
    "        print(value) \n",
    "    print(jack,type(jack))\n",
    "    for var,value in jack.items(): #unpack dictionary\n",
    "        print(var,value)\n",
    "  \n",
    "function(a=1,b=2,c=3,d=4,e=5) # kwargs or named args\n",
    "function(x=100,y=200) # kwargs\n",
    "function(10,20) # unnamed args\n",
    "function(10,value=20) #mix of both unamed / kwargs"
   ]
  },
  {
   "cell_type": "code",
   "execution_count": null,
   "id": "cfe62709",
   "metadata": {},
   "outputs": [],
   "source": [
    "def add(*args,**kwargs): # Note: use * to create a tuple which can hold va_args\n",
    "    total=0\n",
    "    for value in args:\n",
    "        total+=value\n",
    "    for var,value in kwargs.items():\n",
    "        total+=value\n",
    "    return total\n",
    "\n",
    "print(add(1,2,3,4,5)) # unamed\n",
    "print(add(x=100,y=200)) # kwargs\n",
    "print(add(1000,value=2000))  # mix of unamed / kwargs\n",
    "print(add()) # no args"
   ]
  },
  {
   "cell_type": "code",
   "execution_count": null,
   "id": "9f0b73df",
   "metadata": {},
   "outputs": [],
   "source": [
    "list1=[10,20,30]\n",
    "set1={10,20,30}\n",
    "tuple1=(10,20,30)\n",
    "dict1={\"x\":1000,\"y\":2000,\"z\":3000}\n",
    "def foo(x,y,z):\n",
    "    print(x,y,z)\n",
    "    \n",
    "foo(*list1) # 10,20,30\n",
    "foo(*set1)  # Note: using * in function call to unpack collection!\n",
    "foo(*tuple1)\n",
    "foo(**dict1) # Note: using ** to unpack dict"
   ]
  },
  {
   "cell_type": "code",
   "execution_count": null,
   "id": "a707f2e9",
   "metadata": {},
   "outputs": [],
   "source": [
    "def add(*args): # ((1,2,3,4,5))\n",
    "    total=0\n",
    "    for value in args:#(1,2,3,4,5)\n",
    "        for item in value:\n",
    "            total+=item\n",
    "    return total\n",
    "\n",
    "def calculate(*args): # (1,2,3,4,5)\n",
    "    print(\"calculate called\")\n",
    "    return add(args) #(1,2,3,4,5)\n",
    "    \n",
    "print(add((1,2,3,4,5)))\n",
    "print(calculate(1,2,3,4,5)) # 1,2,3,4,5"
   ]
  },
  {
   "cell_type": "code",
   "execution_count": null,
   "id": "6d502b34",
   "metadata": {},
   "outputs": [],
   "source": [
    "def add(*args): # (1,2,3,4,5) # creating a tuple\n",
    "    total=0\n",
    "    for value in args:# 1,2,3,4,5\n",
    "        total+=value\n",
    "    return total\n",
    "\n",
    "def calculate(*args): # (1,2,3,4,5)\n",
    "    print(\"calculate called\")\n",
    "    return add(*args) #1,2,3,4,5 # unpacked collection\n",
    "    \n",
    "print(add(1,2,3,4,5))\n",
    "print(calculate(1,2,3,4,5)) # 1,2,3,4,5"
   ]
  },
  {
   "cell_type": "code",
   "execution_count": null,
   "id": "7b22202b",
   "metadata": {},
   "outputs": [],
   "source": [
    "def add(args): \n",
    "    total=0\n",
    "    for value in args:\n",
    "        total+=value\n",
    "    return total\n",
    "\n",
    "def calculate(*args): \n",
    "    print(\"calculate called\")\n",
    "    return add(args) \n",
    "\n",
    "#print(add(1,2,3,4,5))\n",
    "print(calculate(1,2,3,4,5)) # 1,2,3,4,5"
   ]
  },
  {
   "cell_type": "code",
   "execution_count": null,
   "id": "6541656e",
   "metadata": {},
   "outputs": [],
   "source": [
    "def outer_function():\n",
    "    print(\"outer function called\")\n",
    "    def inner_function():\n",
    "        print(\"Inner function called\")\n",
    "    inner_function() # call\n",
    "        \n",
    "outer_function() # function call"
   ]
  },
  {
   "cell_type": "code",
   "execution_count": null,
   "id": "36aed16e",
   "metadata": {},
   "outputs": [],
   "source": [
    "def outer_function(player,runs):\n",
    "    print(\"outer function called\")\n",
    "    def inner_function():\n",
    "        print(\"Inner function called\",player)\n",
    "        return 99\n",
    "    jersey=inner_function() # call\n",
    "    print(\"Jersey is \",jersey,runs)\n",
    "    return \"sehwag\"\n",
    "        \n",
    "fav_player=outer_function(\"sachin\",100) # function call\n",
    "print(\"Player is \",fav_player)"
   ]
  },
  {
   "cell_type": "code",
   "execution_count": null,
   "id": "8673095e",
   "metadata": {},
   "outputs": [],
   "source": [
    "company=\"TomTom\"\n",
    "\n",
    "def outer_function():\n",
    "    global company\n",
    "    company=\"wipro\"\n",
    "    print(\"outer function called\",company)\n",
    "    def inner1_function():\n",
    "        global company\n",
    "        company=\"tcs\"\n",
    "        print(\"Inner1 function called\",company)\n",
    "        def inner2_function():\n",
    "            print(\"Inner2 function called\",company)\n",
    "        inner2_function()\n",
    "    inner1_function() # call\n",
    "        \n",
    "outer_function() # function call\n",
    "print(\"Outside everything\",company)"
   ]
  },
  {
   "cell_type": "code",
   "execution_count": null,
   "id": "e72ed5d1",
   "metadata": {},
   "outputs": [],
   "source": [
    "company=\"TomTom\"\n",
    "\n",
    "def outer_function():\n",
    "    global company\n",
    "    company=\"wipro\"\n",
    "    print(\"outer function called\",company)\n",
    "    def inner1_function():\n",
    "        #nonlocal company\n",
    "        company=\"tcs\"\n",
    "        print(\"Inner1 function called\",company)\n",
    "    inner1_function() # call\n",
    "    print(\"outer function ends\",company)\n",
    "    \n",
    "outer_function() # function call\n",
    "print(\"Outside everything\",company)"
   ]
  },
  {
   "cell_type": "code",
   "execution_count": null,
   "id": "04ee81c7",
   "metadata": {},
   "outputs": [],
   "source": [
    "def foo():\n",
    "    print(\"Foo called\")\n",
    "    \n",
    "ref=foo\n",
    "ref()"
   ]
  },
  {
   "cell_type": "code",
   "execution_count": null,
   "id": "85d91239",
   "metadata": {},
   "outputs": [],
   "source": [
    "def bar():\n",
    "    print(\"bar called\")\n",
    "    \n",
    "def foo(barref): # reference barref holds address of bar function\n",
    "    print(\"Foo called\")\n",
    "    barref() # generating a call to bar function using base address\n",
    "    \n",
    "foo(bar) # Here address of bar function gets passed\n",
    "print(bar)"
   ]
  },
  {
   "cell_type": "code",
   "execution_count": null,
   "id": "f6a6571d",
   "metadata": {},
   "outputs": [],
   "source": [
    "def add(x,y):\n",
    "    return x+y\n",
    "ref=add\n",
    "print(ref(10,20),add(10,20))"
   ]
  },
  {
   "cell_type": "code",
   "execution_count": null,
   "id": "f56b1b40",
   "metadata": {},
   "outputs": [],
   "source": [
    "def validate_user(user,password):\n",
    "    print(user,password)\n",
    "    \n",
    "def monkey_patching(p1,p2):\n",
    "    print(\"You are fooled by a monkey\")\n",
    "    \n",
    "print(validate_user)\n",
    "print(monkey_patching)\n",
    "validate_user(\"deva\",\"redhat\")\n",
    "validate_user=monkey_patching\n",
    "print(validate_user)\n",
    "validate_user(\"deva\",\"microsoft\")\n",
    "#validate_user()"
   ]
  },
  {
   "cell_type": "code",
   "execution_count": null,
   "id": "f3cd0103",
   "metadata": {},
   "outputs": [],
   "source": []
  }
 ],
 "metadata": {
  "kernelspec": {
   "display_name": "Python 3 (ipykernel)",
   "language": "python",
   "name": "python3"
  },
  "language_info": {
   "codemirror_mode": {
    "name": "ipython",
    "version": 3
   },
   "file_extension": ".py",
   "mimetype": "text/x-python",
   "name": "python",
   "nbconvert_exporter": "python",
   "pygments_lexer": "ipython3",
   "version": "3.9.12"
  }
 },
 "nbformat": 4,
 "nbformat_minor": 5
}
