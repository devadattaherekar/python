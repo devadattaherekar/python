{
 "cells": [
  {
   "cell_type": "code",
   "execution_count": null,
   "id": "37a20e59",
   "metadata": {},
   "outputs": [],
   "source": [
    "# Everything is object in python even functions or keywords \n",
    "# Everything happens at runtime there is no compile time\n",
    "print(\"Hello world\")"
   ]
  },
  {
   "cell_type": "code",
   "execution_count": null,
   "id": "45cab6a6",
   "metadata": {},
   "outputs": [],
   "source": [
    "# x is reference and 10 is immutable object of int class\n",
    "# int/float/str/bool/complex/None/tuple are immutable objects!\n",
    "x=10\n",
    "print(x,type(x),id(x))\n",
    "x=20\n",
    "print(x,type(x),id(x))\n",
    "x+=1\n",
    "print(x,type(x),id(x))\n",
    "x=3.142 # Note: There is no double class in python \n",
    "print(x,type(x),id(x))\n",
    "x=\"TomTom\"\n",
    "print(x,type(x),id(x))\n",
    "x='t' # Note: There is no char class in python \n",
    "print(x,type(x),id(x))\n",
    "x=True\n",
    "print(x,type(x),id(x))\n",
    "x=(100+5j)\n",
    "print(x,type(x),id(x))\n",
    "x=None\n",
    "print(x,type(x),id(x))\n",
    "print(type(type),type(id))"
   ]
  },
  {
   "cell_type": "code",
   "execution_count": null,
   "id": "79d2a6b4",
   "metadata": {},
   "outputs": [],
   "source": [
    "# There are 3 ways to do formatting in python\n",
    "# 1. C-style of formatting \n",
    "name=\"shivshankar\"\n",
    "average=89.78\n",
    "empid=12345\n",
    "print(\"Name is %20s %20s\\nAverage is %11.2f\\nEmployee id is %7d\\n\"%(name,name,average,empid))\n",
    "\n",
    "# 2. str.format() till python 3.5\n",
    "print(\"Name is {}\\nAverage is {}\\nEmp id is {}\".format(name,average,empid))\n",
    "print(\"Name is {0} {0} {0} \\nAverage is {1} {1} \\nEmp id is {2}\".format(name,average,empid) )\n",
    "\n",
    "# 3. f-strings after python 3.6\n",
    "print(f\"Name is {name}\\nAverage is {average}\\nId is {empid}\")"
   ]
  },
  {
   "cell_type": "code",
   "execution_count": null,
   "id": "f220b530",
   "metadata": {},
   "outputs": [],
   "source": [
    "list1=[\"tomtom\",10000,7.89]\n",
    "print(\"%s %d %f\"%(list1[0],list1[1],list1[2]))\n",
    "print(\"{0} {1} {2}\".format(list1[0],list1[1],list1[2]))\n",
    "print(f\"{list1[0]} {list1[1]} {list1[2]}\")"
   ]
  },
  {
   "cell_type": "code",
   "execution_count": null,
   "id": "24902c78",
   "metadata": {},
   "outputs": [],
   "source": [
    "var1=input(\"Enter first value \") # input() creates a str object\n",
    "var2=input(\"Enter second value \") \n",
    "print(f\"addition of {var1} and {var2} is {var1+var2}\")"
   ]
  },
  {
   "cell_type": "code",
   "execution_count": null,
   "id": "6faeefdd",
   "metadata": {},
   "outputs": [],
   "source": [
    "# int() float() str() bool() complex() None() list() set() tuple() dict()\n",
    "var1=int(input(\"Enter first value \")) # input() creates a str object use int() conversion function\n",
    "var2=input(\"Enter second value \") \n",
    "var2=int(var2)\n",
    "print(f\"addition of {var1} and {var2} is {var1+var2}\")\n",
    "print(f\"addition of {type(var1)} and {type(var2)} is {type(var1+var2)}\")"
   ]
  },
  {
   "cell_type": "code",
   "execution_count": null,
   "id": "04521a5b",
   "metadata": {},
   "outputs": [],
   "source": [
    "x=10\n",
    "print(type(x))\n",
    "x=str(x) # Note: Every int can be converted to str\n",
    "print(type(x))\n",
    "x=\"1000\"\n",
    "print(type(x))\n",
    "x=int(x)\n",
    "print(type(x))\n",
    "x=\"4.5\"\n",
    "#x=int(x) # every str cannot be converted to int\n",
    "print(type(x))"
   ]
  },
  {
   "cell_type": "code",
   "execution_count": null,
   "id": "7aabb681",
   "metadata": {},
   "outputs": [],
   "source": [
    "var1=float(input(\"Enter first value \")) # input() creates a str object use int() conversion function\n",
    "var2=input(\"Enter second value \") \n",
    "var2=float(var2)\n",
    "print(f\"addition of {var1} and {var2} is {var1+var2}\")\n",
    "print(f\"addition of {type(var1)} and {type(var2)} is {type(var1+var2)}\")"
   ]
  },
  {
   "cell_type": "code",
   "execution_count": null,
   "id": "1ebfa8d4",
   "metadata": {},
   "outputs": [],
   "source": [
    "try:\n",
    "    var1=float(input(\"Enter first value \")) # input() creates a str object use int() conversion function\n",
    "    var2=input(\"Enter second value \") \n",
    "    var2=float(var2)\n",
    "except ValueError as msg:\n",
    "    print(msg)\n",
    "else:\n",
    "    print(f\"addition of {var1} and {var2} is {var1+var2}\")\n",
    "    print(f\"addition of {type(var1)} and {type(var2)} is {type(var1+var2)}\")\n",
    "finally:\n",
    "    print(\"Finally will always be executed!\")"
   ]
  },
  {
   "cell_type": "code",
   "execution_count": null,
   "id": "71972157",
   "metadata": {},
   "outputs": [],
   "source": [
    "var1=eval(input(\"Enter first value \")) # input() creates a str object use eval() conversion function\n",
    "var2=eval(input(\"Enter second value \"))\n",
    "print(f\"addition of {var1} and {var2} is {var1+str(var2)}\")"
   ]
  },
  {
   "cell_type": "code",
   "execution_count": null,
   "id": "d783d793",
   "metadata": {},
   "outputs": [],
   "source": [
    "print(10/3) # true div\n",
    "print(10//3) # floor div\n",
    "print(10%3)\n",
    "print(2**16)\n",
    "print(4**0.5)"
   ]
  },
  {
   "cell_type": "code",
   "execution_count": null,
   "id": "239c5ef5",
   "metadata": {},
   "outputs": [],
   "source": [
    "# BS as input() from user() \n",
    "# use conversion functions int() float() eval()\n",
    "# HRA=40%BS DA=20%BS PF=40000 PT=5000\n",
    "# GS=BS+HRA+DA+PF+PT\n",
    "# NS=GS-PF-PT\n",
    "# use cstyle str.format f-string to display o/p\n",
    "# use operators % // / "
   ]
  },
  {
   "cell_type": "code",
   "execution_count": null,
   "id": "0a900b1f",
   "metadata": {},
   "outputs": [],
   "source": [
    "bs=eval(input(\"Enter Basic Salary \"))\n",
    "hra=(20/100)*bs\n",
    "da=(40/100)*bs\n",
    "pf=4000\n",
    "pt=5000\n",
    "gs=bs+hra+da+pf+pt\n",
    "ns=gs-pf-pt\n",
    "print(f\"Gross sal is {gs} Netsal is {ns}\")\n",
    "print(\"Gross sal is {0} Netsal is {1}\".format(gs,ns))\n",
    "print(\"Gross sal is %.2f Netsal is %.2f\"%(gs,ns))"
   ]
  },
  {
   "cell_type": "code",
   "execution_count": 8,
   "id": "62af5428",
   "metadata": {},
   "outputs": [
    {
     "name": "stdout",
     "output_type": "stream",
     "text": [
      "can you print 'single quotes' in \n",
      "single \tquotes\n",
      "can you print \"double quotes\" in \n",
      "double \tquotes\n",
      "can you print 'single quotes' in \n",
      "double \tquotes\n",
      "can you print \"double quotes\" in \n",
      "single \tquotes\n",
      "\n",
      "        within triple quotes \n",
      "        print any number of 'single quotes'\n",
      "        and \"double quotes\" no need of escaping or\n",
      "        using escape sequences\n",
      "\n",
      "\n",
      "        within triple quotes \n",
      "        print any number of 'single quotes'\n",
      "        and \"double quotes\" no need of escaping or\n",
      "        using escape sequences\n",
      "\n"
     ]
    }
   ],
   "source": [
    "print('can you print \\'single quotes\\' in \\nsingle \\tquotes')\n",
    "print(\"can you print \\\"double quotes\\\" in \\ndouble \\tquotes\")\n",
    "\n",
    "print(\"can you print 'single quotes' in \\ndouble \\tquotes\")\n",
    "print('can you print \"double quotes\" in \\nsingle \\tquotes')\n",
    "\n",
    "print(\"\"\"\n",
    "        within triple quotes \n",
    "        print any number of 'single quotes'\n",
    "        and \"double quotes\" no need of escaping or\n",
    "        using escape sequences\n",
    "\"\"\")\n",
    "\n",
    "print('''\n",
    "        within triple quotes \n",
    "        print any number of 'single quotes'\n",
    "        and \"double quotes\" no need of escaping or\n",
    "        using escape sequences\n",
    "''')"
   ]
  },
  {
   "cell_type": "code",
   "execution_count": 29,
   "id": "56a0b35f",
   "metadata": {},
   "outputs": [
    {
     "name": "stdout",
     "output_type": "stream",
     "text": [
      "How to write beautiful code in python using PEP 8\n",
      "How to write beautiful code in python using PEP 8\n",
      "How to write beautiful code in python using PEP 8\n",
      "H\n",
      "How\n",
      "write beautiful code in python\n",
      "wiebatflcd npto\n",
      "8\n",
      "PEP 8\n",
      "P gnisu nohtyp \n",
      " python using \n",
      "8 PEP gnisu nohtyp ni edoc lufituaeb etirw ot woH\n"
     ]
    }
   ],
   "source": [
    "# index slicing operator [start:next_to_last:step_count]\n",
    "# can be used on str/list/tuple/numpy/pandas\n",
    "# str object is immutable it means any functions or operations on this object will create a new object\n",
    "# at new memory location\n",
    "guideline1=\"How to write beautiful code in python using PEP 8\"\n",
    "print(guideline1)\n",
    "print(guideline1[:])\n",
    "print(guideline1[::])\n",
    "print(guideline1[0])\n",
    "print(guideline1[0:3]) # 3 is not included\n",
    "print(guideline1[7:37])\n",
    "print(guideline1[7:37:2])\n",
    "print(guideline1[-1])\n",
    "print(guideline1[-5:])\n",
    "print(guideline1[-5:-20:-1])\n",
    "print(guideline1[-19:-5])\n",
    "print(guideline1[::-1])"
   ]
  },
  {
   "cell_type": "code",
   "execution_count": 30,
   "id": "5205643b",
   "metadata": {},
   "outputs": [
    {
     "ename": "TypeError",
     "evalue": "can only concatenate str (not \"int\") to str",
     "output_type": "error",
     "traceback": [
      "\u001b[1;31m---------------------------------------------------------------------------\u001b[0m",
      "\u001b[1;31mTypeError\u001b[0m                                 Traceback (most recent call last)",
      "Input \u001b[1;32mIn [30]\u001b[0m, in \u001b[0;36m<cell line: 1>\u001b[1;34m()\u001b[0m\n\u001b[1;32m----> 1\u001b[0m \u001b[38;5;28mprint\u001b[39m(\u001b[38;5;124;43m\"\u001b[39;49m\u001b[38;5;124;43msachin\u001b[39;49m\u001b[38;5;124;43m\"\u001b[39;49m\u001b[38;5;241;43m+\u001b[39;49m\u001b[38;5;241;43m10\u001b[39;49m)\n",
      "\u001b[1;31mTypeError\u001b[0m: can only concatenate str (not \"int\") to str"
     ]
    }
   ],
   "source": [
    "print(\"sachin\"+10)"
   ]
  },
  {
   "cell_type": "code",
   "execution_count": 32,
   "id": "70bd3d4f",
   "metadata": {},
   "outputs": [
    {
     "name": "stdout",
     "output_type": "stream",
     "text": [
      "sachinsachinsachinsachinsachinsachinsachinsachinsachinsachin\n",
      "sachinsachinsachinsachinsachinsachinsachinsachinsachinsachin\n"
     ]
    }
   ],
   "source": [
    "print(\"sachin\"*10)\n",
    "print(\"sachin\".__mul__(10))"
   ]
  },
  {
   "cell_type": "code",
   "execution_count": 5,
   "id": "07dbe7e2",
   "metadata": {},
   "outputs": [
    {
     "name": "stdout",
     "output_type": "stream",
     "text": [
      "192.168.10.5\n",
      "192.168.10.5\n"
     ]
    }
   ],
   "source": [
    "network_id=\"192.168\"\n",
    "host_id=\"10.5\"\n",
    "ip_addr=network_id+\".\"+host_id\n",
    "print(ip_addr)\n",
    "ip_addr=f\"{network_id}.{host_id}\"\n",
    "print(ip_addr)\n",
    "#ip_addr[0]=\"7\" # 'str' object does not support item assignment\n",
    "#del ip_addr[5] # 'str' object doesn't support item deletion"
   ]
  },
  {
   "cell_type": "code",
   "execution_count": 36,
   "id": "a3666056",
   "metadata": {},
   "outputs": [
    {
     "name": "stdout",
     "output_type": "stream",
     "text": [
      "['__add__', '__class__', '__contains__', '__delattr__', '__dir__', '__doc__', '__eq__', '__format__', '__ge__', '__getattribute__', '__getitem__', '__getnewargs__', '__gt__', '__hash__', '__init__', '__init_subclass__', '__iter__', '__le__', '__len__', '__lt__', '__mod__', '__mul__', '__ne__', '__new__', '__reduce__', '__reduce_ex__', '__repr__', '__rmod__', '__rmul__', '__setattr__', '__sizeof__', '__str__', '__subclasshook__', 'capitalize', 'casefold', 'center', 'count', 'encode', 'endswith', 'expandtabs', 'find', 'format', 'format_map', 'index', 'isalnum', 'isalpha', 'isascii', 'isdecimal', 'isdigit', 'isidentifier', 'islower', 'isnumeric', 'isprintable', 'isspace', 'istitle', 'isupper', 'join', 'ljust', 'lower', 'lstrip', 'maketrans', 'partition', 'removeprefix', 'removesuffix', 'replace', 'rfind', 'rindex', 'rjust', 'rpartition', 'rsplit', 'rstrip', 'split', 'splitlines', 'startswith', 'strip', 'swapcase', 'title', 'translate', 'upper', 'zfill']\n"
     ]
    }
   ],
   "source": [
    "print(dir(str))"
   ]
  },
  {
   "cell_type": "code",
   "execution_count": 37,
   "id": "10bbf84c",
   "metadata": {},
   "outputs": [
    {
     "name": "stdout",
     "output_type": "stream",
     "text": [
      "Help on method_descriptor:\n",
      "\n",
      "isspace(self, /)\n",
      "    Return True if the string is a whitespace string, False otherwise.\n",
      "    \n",
      "    A string is whitespace if all characters in the string are whitespace and there\n",
      "    is at least one character in the string.\n",
      "\n",
      "None\n"
     ]
    }
   ],
   "source": [
    "print(help(str.isspace))"
   ]
  },
  {
   "cell_type": "code",
   "execution_count": 38,
   "id": "acd6bc99",
   "metadata": {},
   "outputs": [
    {
     "name": "stdout",
     "output_type": "stream",
     "text": [
      "False\n",
      "False\n",
      "True\n",
      "False\n",
      "True\n",
      "True\n"
     ]
    }
   ],
   "source": [
    "check_str=\"python programming\"\n",
    "print(check_str.isalnum())\n",
    "print(check_str.isdigit())\n",
    "print(check_str.isascii())\n",
    "print(check_str.isdecimal())\n",
    "print(check_str.isprintable())\n",
    "print(check_str.islower())"
   ]
  },
  {
   "cell_type": "code",
   "execution_count": 45,
   "id": "bde6c323",
   "metadata": {},
   "outputs": [
    {
     "name": "stdout",
     "output_type": "stream",
     "text": [
      "PYTHON PROGRAMMING\n",
      "python programming\n",
      "Python Programming\n",
      "Python programming\n",
      "PYTHON PROGramMING\n"
     ]
    }
   ],
   "source": [
    "check_str=\"python progRAMming\"\n",
    "print(check_str.upper())\n",
    "#check_str=check_str.upper()\n",
    "#print(check_str)\n",
    "print(check_str.lower())\n",
    "print(check_str.title())\n",
    "print(check_str.capitalize())\n",
    "print(check_str.swapcase())"
   ]
  },
  {
   "cell_type": "code",
   "execution_count": 48,
   "id": "28ccbc1f",
   "metadata": {},
   "outputs": [
    {
     "name": "stdout",
     "output_type": "stream",
     "text": [
      "                                         python programming                                         \n",
      "python programming                                                                                  \n",
      "                                                                                  python programming\n"
     ]
    }
   ],
   "source": [
    "check_str=\"python programming\"\n",
    "print(check_str.center(100))\n",
    "print(check_str.ljust(100))\n",
    "print(check_str.rjust(100))"
   ]
  },
  {
   "cell_type": "code",
   "execution_count": 51,
   "id": "50876ebc",
   "metadata": {},
   "outputs": [
    {
     "name": "stdout",
     "output_type": "stream",
     "text": [
      "['devadattaherekar', 'gmail.com']\n",
      "<class 'list'>\n",
      "Username is  devadattaherekar\n",
      "Hostname is  gmail.com\n"
     ]
    }
   ],
   "source": [
    "email=\"devadattaherekar@gmail.com\"\n",
    "print(email.split(\"@\"))\n",
    "print(type(email.split(\"@\")))\n",
    "parse_email=email.split(\"@\")\n",
    "print(\"Username is \",parse_email[0])\n",
    "print(\"Hostname is \",parse_email[1])"
   ]
  },
  {
   "cell_type": "code",
   "execution_count": 7,
   "id": "21b9e770",
   "metadata": {},
   "outputs": [
    {
     "name": "stdout",
     "output_type": "stream",
     "text": [
      "Day is 9\n",
      "Month is December\n",
      "Year is 2022\n"
     ]
    }
   ],
   "source": [
    "date=\"9-December-2022\"\n",
    "parse_date=date.split(\"-\")\n",
    "print(f\"Day is {parse_date[0]}\\nMonth is {parse_date[1]}\\nYear is {parse_date[2]}\")"
   ]
  },
  {
   "cell_type": "code",
   "execution_count": 55,
   "id": "5ed1e56e",
   "metadata": {},
   "outputs": [
    {
     "name": "stdout",
     "output_type": "stream",
     "text": [
      "t\to\tm\tt\to\tm\n",
      "t,o,m,t,o,m\n",
      "t o m t o m\n",
      "t:o:m:t:o:m\n"
     ]
    }
   ],
   "source": [
    "company=[\"t\",'o',\"m\",\"t\",\"o\",\"m\"]\n",
    "print(\"\\t\".join(company))\n",
    "print(\",\".join(company))\n",
    "print(\" \".join(company))\n",
    "print(\":\".join(company))"
   ]
  }
 ],
 "metadata": {
  "kernelspec": {
   "display_name": "Python 3 (ipykernel)",
   "language": "python",
   "name": "python3"
  },
  "language_info": {
   "codemirror_mode": {
    "name": "ipython",
    "version": 3
   },
   "file_extension": ".py",
   "mimetype": "text/x-python",
   "name": "python",
   "nbconvert_exporter": "python",
   "pygments_lexer": "ipython3",
   "version": "3.9.12"
  }
 },
 "nbformat": 4,
 "nbformat_minor": 5
}
