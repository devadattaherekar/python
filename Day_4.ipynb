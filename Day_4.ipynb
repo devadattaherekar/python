{
 "cells": [
  {
   "cell_type": "code",
   "execution_count": null,
   "id": "c907be40",
   "metadata": {},
   "outputs": [],
   "source": [
    "# generators are alternatives for collections\n",
    "# generators do not store any value (lesser memory footprint) \n",
    "# and computations are done only when required"
   ]
  },
  {
   "cell_type": "code",
   "execution_count": null,
   "id": "394162d3",
   "metadata": {},
   "outputs": [],
   "source": [
    "print(range(5)) # range is a builtin generator"
   ]
  },
  {
   "cell_type": "code",
   "execution_count": null,
   "id": "70a2bc48",
   "metadata": {},
   "outputs": [],
   "source": [
    "#1. conversion function (should be used to check values returned from generator)\n",
    "print(list(range(5)))\n",
    "print(set(range(5)))\n",
    "print(tuple(range(5)))"
   ]
  },
  {
   "cell_type": "code",
   "execution_count": null,
   "id": "9904be52",
   "metadata": {},
   "outputs": [],
   "source": [
    "#2. use for loop on generators to extract all values\n",
    "\n",
    "for item in range(5):\n",
    "    print(item,end=\" \")\n",
    "print(\" \")\n",
    "for item in range(1,11):\n",
    "    print(item,end=\" \")\n",
    "print(\" \")\n",
    "for item in range(10,101,10):\n",
    "    print(item,end=\" \")"
   ]
  },
  {
   "cell_type": "code",
   "execution_count": null,
   "id": "ba6f7205",
   "metadata": {},
   "outputs": [],
   "source": [
    "# 3. next() iterator can be used on generator to compute only when required\n",
    "ref=iter(range(1,6))\n",
    "print(next(ref))\n",
    "print(next(ref))\n",
    "print(next(ref))\n",
    "print(next(ref))\n",
    "print(next(ref))\n",
    "#print(next(ref)) # StopIteration"
   ]
  },
  {
   "cell_type": "code",
   "execution_count": null,
   "id": "59cd0783",
   "metadata": {},
   "outputs": [],
   "source": [
    "#list1=[10,20,30,40,50]\n",
    "count=0\n",
    "for item in range(10,51,10):\n",
    "    print(f\"{count} {item}\")\n",
    "    count+=1"
   ]
  },
  {
   "cell_type": "code",
   "execution_count": null,
   "id": "204c93e2",
   "metadata": {},
   "outputs": [],
   "source": [
    "list1=[10,20,30,40,50]\n",
    "\n",
    "print(enumerate(list1))\n",
    "print(list(enumerate(list1)))\n",
    "print(set(enumerate(list1)))\n",
    "print(tuple(enumerate(list1)))\n",
    "\n",
    "for index,value in enumerate(range(10,101,10)):\n",
    "    print(f\"{index} {value}\")\n",
    "    \n",
    "ref=enumerate(list1)\n",
    "record1=next(ref)\n",
    "print(record1[0],record1[1])\n",
    "print(next(ref))\n",
    "print(next(ref))"
   ]
  },
  {
   "cell_type": "code",
   "execution_count": null,
   "id": "67fd68f9",
   "metadata": {},
   "outputs": [],
   "source": [
    "list1=[[10,20,30],[40,50,60],[70,80,90]]\n",
    "print(list1)\n",
    "print(list1[0])\n",
    "print(list1[0][0])\n",
    "print(list1[2][2])"
   ]
  },
  {
   "cell_type": "code",
   "execution_count": null,
   "id": "9a48a852",
   "metadata": {},
   "outputs": [],
   "source": [
    "list1=[[10,20,30],[40,50,60],[70,80,90]]\n",
    "\n",
    "for i,rows in enumerate(list1):\n",
    "    for j,cols in enumerate(rows):\n",
    "        print(f\"list1[{i}][{j}]={cols}\",end=\" \")\n",
    "    print(\" \")"
   ]
  },
  {
   "cell_type": "code",
   "execution_count": null,
   "id": "9a3f9fa5",
   "metadata": {},
   "outputs": [],
   "source": [
    "# comprehensions offer simplified syntax to create a new collection based on existing collections\n",
    "# There are list/set/dict comprehensions\n",
    "# There is no tuple comprehension (It becomes a generator!)"
   ]
  },
  {
   "cell_type": "code",
   "execution_count": null,
   "id": "f98a3b13",
   "metadata": {},
   "outputs": [],
   "source": [
    "\"\"\"\n",
    "list1=[]\n",
    "for item in range(1,6):\n",
    "    list1.append(item)\n",
    "\"\"\"\n",
    "list1=[item for item in range(1,6)] # list comprehension\n",
    "print(list1)\n",
    "list1=[0 for item in range(1,6)] # list comprehension\n",
    "print(list1)\n",
    "list1=[item*item for item in range(1,6)] # list comprehension\n",
    "print(list1)\n",
    "list1=[item*item*item for item in range(1,6)] # list comprehension\n",
    "print(list1)"
   ]
  },
  {
   "cell_type": "code",
   "execution_count": null,
   "id": "22ab3e3e",
   "metadata": {},
   "outputs": [],
   "source": [
    "cricketers=[\"VIrat\",\"ROHIT\",\"Bumrah\",\"ShamI\"]\n",
    "\n",
    "cricketers_lower=[ player.lower() for player in cricketers] # list comprehension!\n",
    "player=input(\"Enter player name \")\n",
    "\n",
    "if player.lower() in cricketers_lower:\n",
    "    print(f\"Your {player} is playing today\")\n",
    "else:\n",
    "    print(f\"Your {player} has to wait for next tournament!\")"
   ]
  },
  {
   "cell_type": "code",
   "execution_count": null,
   "id": "3fef3950",
   "metadata": {},
   "outputs": [],
   "source": [
    "# conditional list comprehension\n",
    "\n",
    "evens=[num for num in range(1,21)if num%2==0]\n",
    "print(evens)"
   ]
  },
  {
   "cell_type": "code",
   "execution_count": null,
   "id": "c511c4f4",
   "metadata": {},
   "outputs": [],
   "source": [
    "set1={item for item in range(1,6)} # set comprehension\n",
    "print(set1)\n",
    "set1={0 for item in range(1,6)} # set comprehension\n",
    "print(set1)\n",
    "set1={item*item for item in range(1,6)} # set comprehension\n",
    "print(set1)\n",
    "set1={item*item*item for item in range(1,6)} # set comprehension\n",
    "print(set1)\n",
    "evens=[num for num in range(1,21)if num%2==0] # set conditional comprehension\n",
    "evens=set(evens) # use set conversion function on list comprehension to create set comprehension!\n",
    "print(evens)"
   ]
  },
  {
   "cell_type": "code",
   "execution_count": null,
   "id": "2fe1532b",
   "metadata": {},
   "outputs": [],
   "source": [
    "Indian=[\"VIrat\",\"ROHIT\",\"Bumrah\",\"ShamI\"]\n",
    "Batters=[\"VIRAT\",\"Rohit\",\"maxwell\",\"gayle\",\"russel\"]\n",
    "\n",
    "Indian_lower=[player.lower() for player in Indian]\n",
    "Batters_lower=[player.lower() for player in Batters]\n",
    "\n",
    "Indian_Batters=[player for player in Indian_lower if player in Batters_lower]\n",
    "# Note: Avoid nesting comprehensions keep comprehensions separate \n",
    "#Indian_Batters=[player for player in [player.lower() for player in Indian] if player in [player.lower() for player in Batters]]\n",
    "print(Indian_Batters)"
   ]
  },
  {
   "cell_type": "code",
   "execution_count": null,
   "id": "6c6ae381",
   "metadata": {},
   "outputs": [],
   "source": [
    "Indian={\"VIrat\",\"ROHIT\",\"Bumrah\",\"ShamI\"}\n",
    "Batters={\"VIRAT\",\"Rohit\",\"maxwell\",\"gayle\",\"russel\"}\n",
    "\n",
    "Indian_lower={player.lower() for player in Indian}\n",
    "Batters_lower={player.lower() for player in Batters}\n",
    "print(Indian_lower.intersection(Batters_lower)) # use set comprehension \n",
    "#Indian_Batters=[player for player in Indian_lower if player in Batters_lower]"
   ]
  },
  {
   "cell_type": "code",
   "execution_count": null,
   "id": "cca8906c",
   "metadata": {},
   "outputs": [],
   "source": [
    "players=[\"sachin\",\"sehwag\",\"virat\",\"rohit\"]\n",
    "jersey=[10,99,18]\n",
    "\n",
    "dream11={jersey[index]:players[index] for index in range(len(jersey))} # dictionary comprehension\n",
    "print(dream11)"
   ]
  },
  {
   "cell_type": "code",
   "execution_count": null,
   "id": "323de8a1",
   "metadata": {},
   "outputs": [],
   "source": [
    "players=[\"sachin\",\"sehwag\",\"virat\",\"rohit\",\"klrahul\"]\n",
    "jersey=[10,99,18,45,1,333]\n",
    "\n",
    "print(zip(jersey,players)) # zip returns generator \n",
    "\n",
    "dream11=dict(zip(jersey,players)) \n",
    "# use zip(collection1,collection2...) as an alternative for dict comprehension!\n",
    "print(dream11)\n",
    "\n",
    "dream11=list(zip(jersey,players))\n",
    "print(dream11)\n",
    "\n",
    "dream11=tuple(zip(jersey,players))\n",
    "print(dream11)\n",
    "\n",
    "dream11=set(zip(jersey,players))\n",
    "print(dream11)\n",
    "\n",
    "for jersey,player in zip(jersey,players):\n",
    "    print(f\"{player} player wears {jersey} number\")"
   ]
  },
  {
   "cell_type": "code",
   "execution_count": null,
   "id": "a0b748b0",
   "metadata": {},
   "outputs": [],
   "source": [
    "computer_names=[\"server1\",\"laptop1\",\"desktop1\"]\n",
    "ip_addr=[\"192.168.10.1\",\"8.8.8.8\",\"172.16.0.1\"]\n",
    "regions=[\"mumbai\",\"ohio\",\"north-virginia\"]\n",
    "print(list(zip(computer_names,ip_addr,regions)))\n",
    "\n",
    "for machine,ipaddr,region in zip(computer_names,ip_addr,regions):\n",
    "    print(f\"{machine} instance with ip {ipaddr} launced in {region} region\")"
   ]
  },
  {
   "cell_type": "code",
   "execution_count": null,
   "id": "acd325a8",
   "metadata": {},
   "outputs": [],
   "source": [
    "restaurants=[\n",
    "                {\"name\":\"Barbeque Nation\",\"address\":\"deccan\"},\n",
    "                {\"name\":\"good Luck\",\"address\":\"deccan\"},\n",
    "                {\"name\":\"nawab asia\",\"address\":\"baner\"},\n",
    "                {\"name\":\"prithvi\",\"address\":\"kothrud\"},        \n",
    "                {\"name\":\"abhishek veg\",\"address\":\"kothrud\"}\n",
    "            ]\n",
    "current_location=input(\"Enter your location :\")\n",
    "resto_nearby=[resto[\"name\"] for resto in restaurants if resto[\"address\"] == current_location ]\n",
    "\"\"\"\n",
    "for resto in restaurants:\n",
    "    #print(type(resto),type(restaurants))\n",
    "    if resto[\"address\"] == current_location:\n",
    "        resto_nearby.append(resto[\"name\"])\n",
    "\"\"\"\n",
    "if any(resto_nearby):\n",
    "    print(resto_nearby)\n",
    "else:\n",
    "    print(\"Please try a different location!\")"
   ]
  },
  {
   "cell_type": "code",
   "execution_count": null,
   "id": "3eff9ab9",
   "metadata": {},
   "outputs": [],
   "source": [
    "restaurants={\n",
    "                \"deccan\":{\"Barbeque Nation\",\"good luck\"},\n",
    "                \"kothrud\":{\"prithvi\",\"abhishek veg\"},\n",
    "                \"baner\":{\"nawab asia\"}\n",
    "           }\n",
    "current_location=input(\"Enter your location :\")\n",
    "if current_location in restaurants.keys():\n",
    "    for resto in restaurants.keys():\n",
    "        if current_location==resto:\n",
    "            print(restaurants[current_location])\n",
    "else:\n",
    "    print(\"Please try a different location!\")"
   ]
  },
  {
   "cell_type": "code",
   "execution_count": null,
   "id": "395a3711",
   "metadata": {},
   "outputs": [],
   "source": [
    "evens=[num for num in range(1,21)if num%2==0]\n",
    "print(evens)\n",
    "evens={num for num in range(1,21)if num%2==0}\n",
    "print(evens)\n",
    "evens=(num for num in range(1,21)if num%2==0)\n",
    "print(evens)\n",
    "print(list(evens))\n",
    "evens=(num for num in range(1,21)if num%2==0)\n",
    "print(set(evens))\n",
    "#print(sum([1,2,3,4,5]))\n",
    "evens=(num for num in range(1,21)if num%2==0)\n",
    "print(sum(evens))\n",
    "print(sum(evens)) # Note: Here generator is already exhausted ! so it prints 0\n",
    "evens=(num for num in range(1,21)if num%2==0)\n",
    "for nums in evens:\n",
    "    print(nums,end=\" \")\n",
    "print(\" \")\n",
    "evens=(num for num in range(1,21)if num%2==0)\n",
    "ref=evens\n",
    "print(next(ref))\n",
    "print(next(ref))"
   ]
  },
  {
   "cell_type": "code",
   "execution_count": null,
   "id": "b8c35775",
   "metadata": {},
   "outputs": [],
   "source": [
    "Indian=[\"VIrat\",\"ROHIT\",\"Bumrah\",\"ShamI\"]\n",
    "Batters=[\"VIRAT\",\"Rohit\",\"maxwell\",\"gayle\",\"russel\"]\n",
    "\n",
    "Indian_lower=(player.lower() for player in Indian) # generator\n",
    "Batters_lower=(player.lower() for player in Batters) # generator\n",
    "for player in Indian_lower: # use for loop on generator to get values\n",
    "    print(player,end=\" \")\n",
    "    \n",
    "print(\" \")\n",
    "Indian_lower=(player.lower() for player in Indian)\n",
    "ref=Indian_lower \n",
    "print(next(ref)) # use next() iterator on generator to extract single value\n",
    "print(list(Indian_lower)) # use conversion function to check value from generator!"
   ]
  },
  {
   "cell_type": "code",
   "execution_count": null,
   "id": "265e8cf3",
   "metadata": {},
   "outputs": [],
   "source": [
    "# function taking no args and returning None\n",
    "# By default every function in python return NoneType\n",
    "def my_function(): # function definition\n",
    "    print(\"This is my first userdefined function!\")\n",
    "    \n",
    "my_function() # function call"
   ]
  },
  {
   "cell_type": "code",
   "execution_count": null,
   "id": "a9417b4b",
   "metadata": {},
   "outputs": [],
   "source": [
    "# function taking 2 args and returning a single value\n",
    "def add(x,y): # 2 parameters \n",
    "    return x+y # return single value\n",
    "\n",
    "print(add(10,20)) # passing 2 arguments\n",
    "print(add(\"sachin\",\"sehwag\")) \n",
    "print(add((10+4j),(50+2j))) \n",
    "print(add(3.5,2.6)) "
   ]
  },
  {
   "cell_type": "code",
   "execution_count": null,
   "id": "82251529",
   "metadata": {},
   "outputs": [],
   "source": [
    "# Note: return can return only one value in python comma operator creates a tuple\n",
    "# This function is returning a tuple\n",
    "def movie_details():\n",
    "    return \"avatar way of the water\",\"16-Dec-2022\",\"kate winslet\"\n",
    "\n",
    "movie,date,actor=movie_details()\n",
    "print(f\"{actor} acts in {movie} released in {date}\")\n",
    "\n",
    "record=movie_details()\n",
    "print(record[0],record[1],record[2])"
   ]
  },
  {
   "cell_type": "code",
   "execution_count": 9,
   "id": "9c3207b5",
   "metadata": {},
   "outputs": [
    {
     "name": "stdout",
     "output_type": "stream",
     "text": [
      "100\n",
      "300\n",
      "0\n"
     ]
    }
   ],
   "source": [
    "# Note: only trailing args can be defaulted!\n",
    "# Go from right to left. You cannot assing default value to left without giving it to right parameter\n",
    "def add(x=0,y=0): \n",
    "    return x+y \n",
    "\n",
    "print(add(100))\n",
    "print(add(100,200))\n",
    "print(add())"
   ]
  },
  {
   "cell_type": "code",
   "execution_count": 17,
   "id": "51d9e9ce",
   "metadata": {},
   "outputs": [
    {
     "name": "stdout",
     "output_type": "stream",
     "text": [
      "*** acts in ___ released in 0\n",
      "*** acts in rocky released in 0\n",
      "*** acts in braveheart released in 1990\n",
      "di nero acts in taxi driver released in 1975\n"
     ]
    }
   ],
   "source": [
    "def movie_details(movie=\"___\",date=0,actor=\"***\"):\n",
    "    print(f\"{actor} acts in {movie} released in {date}\")\n",
    "    \n",
    "movie_details()\n",
    "movie_details(\"rocky\")\n",
    "movie_details(\"braveheart\",1990)\n",
    "movie_details(\"taxi driver\",1975,\"di nero\")"
   ]
  },
  {
   "cell_type": "code",
   "execution_count": 22,
   "id": "393e105e",
   "metadata": {},
   "outputs": [
    {
     "name": "stdout",
     "output_type": "stream",
     "text": [
      "di nero acts in taxi driver released in 1975\n",
      "di nero acts in taxi driver released in 1975\n",
      " acts in  released in 0\n"
     ]
    }
   ],
   "source": [
    "def movie_details(movie=\"\",date=0,actor=\"\"): # default args\n",
    "    print(f\"{actor} acts in {movie} released in {date}\")\n",
    "    \n",
    "movie_details(\"taxi driver\",1975,\"di nero\") # unnamed args\n",
    "movie_details(date=1975,actor=\"di nero\",movie=\"taxi driver\") # named args / keyword args\n",
    "movie_details() # no args"
   ]
  },
  {
   "cell_type": "code",
   "execution_count": null,
   "id": "bb65de57",
   "metadata": {},
   "outputs": [],
   "source": []
  }
 ],
 "metadata": {
  "kernelspec": {
   "display_name": "Python 3 (ipykernel)",
   "language": "python",
   "name": "python3"
  },
  "language_info": {
   "codemirror_mode": {
    "name": "ipython",
    "version": 3
   },
   "file_extension": ".py",
   "mimetype": "text/x-python",
   "name": "python",
   "nbconvert_exporter": "python",
   "pygments_lexer": "ipython3",
   "version": "3.9.12"
  }
 },
 "nbformat": 4,
 "nbformat_minor": 5
}
