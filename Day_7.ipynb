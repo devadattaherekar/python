{
 "cells": [
  {
   "cell_type": "code",
   "execution_count": null,
   "id": "cdd9e1b0",
   "metadata": {},
   "outputs": [],
   "source": [
    "# module is a single .py file which contains some code\n",
    "# package (collection of multiple modules)\n",
    "# pip / conda\n",
    "# pip --help\n",
    "# pip install virtualenv\n",
    "# mkdir <Project>\n",
    "# virtualenv <Project>\n",
    "# run <Project>/Scripts/activate.bat\n",
    "# pip list\n",
    "# pip install <package> \n",
    "# pip freeze > requirements.txt\n",
    "# Go out of scripts directory to list packages of base env\n",
    "# pip install -r requirements.txt"
   ]
  }
 ],
 "metadata": {
  "kernelspec": {
   "display_name": "Python 3 (ipykernel)",
   "language": "python",
   "name": "python3"
  },
  "language_info": {
   "codemirror_mode": {
    "name": "ipython",
    "version": 3
   },
   "file_extension": ".py",
   "mimetype": "text/x-python",
   "name": "python",
   "nbconvert_exporter": "python",
   "pygments_lexer": "ipython3",
   "version": "3.9.12"
  }
 },
 "nbformat": 4,
 "nbformat_minor": 5
}
