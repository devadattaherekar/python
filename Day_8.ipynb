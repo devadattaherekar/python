{
 "cells": [
  {
   "cell_type": "code",
   "execution_count": null,
   "id": "9e0fb48d",
   "metadata": {},
   "outputs": [],
   "source": [
    "import sys\n",
    "\n",
    "print(\"Name of the script is \",sys.argv[0])\n",
    "\n",
    "if len(sys.argv)!=3:\n",
    "    print(\"This script works with only 2 arguments\")\n",
    "    print(\"First argument has to be string\")\n",
    "    print(\"Second argument has to be action to be performed\")\n",
    "    print(\"Actions are upper/lower/title/capitalize/swapcase\")\n",
    "    sys.exit(-1)\n",
    "else:\n",
    "    #print(\"First argument is \",sys.argv[1])\n",
    "    user_string=sys.argv[1]\n",
    "    #print(\"Second argument is \",sys.argv[2])\n",
    "    string_operation=sys.argv[2]\n",
    "    #print(\"Total number of args is\",len(sys.argv))\n",
    "    if string_operation==\"upper\":\n",
    "        print(user_string.upper())\n",
    "    elif string_operation==\"lower\":\n",
    "        print(user_string.lower())\n",
    "    elif string_operation == \"title\":\n",
    "        print(user_string.title())\n",
    "    elif string_operation == \"capitalize\":\n",
    "        print(user_string.capitalize())\n",
    "    elif string_operation == \"swapcase\":\n",
    "        print(user_string.swapcase())\n",
    "    else:\n",
    "        print(\"invalid action kindly use upper/lower/title/capitalize/swapcase only \")\n",
    "        sys.exit(2)\n",
    "\n",
    "    sys.exit(0)\n"
   ]
  },
  {
   "cell_type": "code",
   "execution_count": null,
   "id": "61629858",
   "metadata": {},
   "outputs": [],
   "source": [
    "import platform as pt\n",
    "\n",
    "print(dir(pt))\n",
    "#print(help(pt))\n",
    "print(pt.machine())\n",
    "print(pt.version())\n",
    "print(pt.platform())\n",
    "print(pt.release())\n",
    "print(pt.system())\n",
    "print(pt.uname())"
   ]
  },
  {
   "cell_type": "code",
   "execution_count": null,
   "id": "11fcec35",
   "metadata": {},
   "outputs": [],
   "source": [
    "import os\n",
    "print(dir(os))"
   ]
  },
  {
   "cell_type": "code",
   "execution_count": null,
   "id": "626fb827",
   "metadata": {},
   "outputs": [],
   "source": [
    "import os\n",
    "\n",
    "print(os.getcwd())\n",
    "print(os.listdir())\n",
    "print(os.sep)"
   ]
  },
  {
   "cell_type": "code",
   "execution_count": null,
   "id": "8567d520",
   "metadata": {},
   "outputs": [],
   "source": [
    "print(\"c:\\\\users\")"
   ]
  },
  {
   "cell_type": "code",
   "execution_count": null,
   "id": "f8fb5321",
   "metadata": {},
   "outputs": [],
   "source": [
    "print(\"//\")"
   ]
  },
  {
   "cell_type": "code",
   "execution_count": null,
   "id": "771c9be4",
   "metadata": {},
   "outputs": [],
   "source": [
    "import os\n",
    "\n",
    "print(os.path.sep)\n",
    "path1=\"c:\\\\users\"\n",
    "path2=\"shree\"\n",
    "print(path1+os.sep+path2)\n",
    "print(\" \")\n",
    "mypath=os.path.join(path1,path2)\n",
    "print(os.listdir(mypath))\n",
    "print(os.path.split(path1))\n",
    "print(os.path.dirname(path1))\n",
    "print(os.path.basename(path1))"
   ]
  },
  {
   "cell_type": "code",
   "execution_count": 3,
   "id": "accb8deb",
   "metadata": {},
   "outputs": [
    {
     "name": "stdout",
     "output_type": "stream",
     "text": [
      "listing files and folder  ['All Users', 'Default', 'Default User', 'desktop.ini', 'Public', 'Shree']\n",
      "Current directory is  c:\\Users\\Shree\n",
      "listing files and folder  ['.anaconda', '.astropy', '.atom', '.aws', '.bash_history', '.cache', '.conda', '.condarc', '.continuum', '.dotnet', '.eclipse', '.gitconfig', '.idlerc', '.ipynb_checkpoints', '.ipython', '.jupyter', '.lesshst', '.matplotlib', '.ms-ad', '.p2', '.python_history', '.spyder-py3', '.ssh', '.viminfo', '.vscode', '3D Objects', 'anaconda3', 'AppData', 'Application Data', 'build', 'Contacts', 'Cookies', 'Day_1.ipynb', 'Day_2.ipynb', 'Day_3.ipynb', 'Day_4.ipynb', 'Day_5.ipynb', 'Day_6.ipynb', 'Day_7.ipynb', 'Day_8.ipynb', 'Desktop', 'deva_project', 'dist', 'Documents', 'Downloads', 'eclipse', 'eclipse-workspace', 'Favorites', 'Intel', 'IntelGraphicsProfiles', 'Kiran_Project', 'Links', 'Local Settings', 'modules', 'Music', 'My Documents', 'NetHood', 'NTUSER.DAT', 'ntuser.dat.LOG1', 'ntuser.dat.LOG2', 'NTUSER.DAT{53b39e88-18c4-11ea-a811-000d3aa4692b}.TM.blf', 'NTUSER.DAT{53b39e88-18c4-11ea-a811-000d3aa4692b}.TMContainer00000000000000000001.regtrans-ms', 'NTUSER.DAT{53b39e88-18c4-11ea-a811-000d3aa4692b}.TMContainer00000000000000000002.regtrans-ms', 'ntuser.ini', 'objects', 'OneDrive', 'Pictures', 'PrintHood', 'PycharmProjects', 'Python_Test_Project', 'Recent', 'requirements.txt', 'Saved Games', 'Searches', 'SendTo', 'source', 'Start Menu', 'Templates', 'test1', 'Videos']\n",
      "['$Recycle.Bin', '$WinREAgent', 'Documents and Settings', 'DumpStack.log.tmp', 'eclipse', 'FibocomLog', 'hiberfil.sys', 'Intel', 'MSOCache', 'OneDriveTemp', 'pagefile.sys', 'PerfLogs', 'Program Files', 'Program Files (x86)', 'ProgramData', 'Recovery', 'swapfile.sys', 'Symantec', 'System Volume Information', 'Users', 'Windows']\n",
      "Folder test1 is alreay present\n"
     ]
    }
   ],
   "source": [
    "import os\n",
    "\n",
    "os.chdir(\"c:\\\\Users\")\n",
    "print(\"listing files and folder \",os.listdir())\n",
    "os.chdir(\"c:\\\\Users\\\\Shree\")\n",
    "print(\"Current directory is \",os.getcwd())\n",
    "print(\"listing files and folder \",os.listdir())\n",
    "print(os.listdir(\"c:\\\\\"))\n",
    "if os.path.exists(\"test1\"):\n",
    "    print(\"Folder test1 is alreay present\")\n",
    "else:\n",
    "    os.mkdir(\"test1\")\n",
    "    print(\"test1 folder created!\")\n",
    "\n",
    "if not os.path.exists(\"dir1\"):\n",
    "    os.makedirs(\"dir1\\\\dir2\\\\dir3\\\\dir4\")\n",
    "\n",
    "#if os.path.exists(\"c:\\\\users\\\\shree\\\\test1\"):\n",
    "    #os.rmdir(\"c:\\\\users\\\\shree\\\\test1\")\n",
    "    \n",
    "if os.path.exists(\"dir1\\\\dir2\\\\dir3\\\\dir4\"):\n",
    "    os.removedirs(\"dir1\\\\dir2\\\\dir3\\\\dir4\")\n",
    "    \n",
    "if os.path.exists(\"test1\"):\n",
    "    os.rename(\"test1\",\"mytest_folder\")\n"
   ]
  },
  {
   "cell_type": "code",
   "execution_count": null,
   "id": "46c3ec8d",
   "metadata": {},
   "outputs": [],
   "source": [
    "pwd"
   ]
  },
  {
   "cell_type": "code",
   "execution_count": 5,
   "id": "1d341385",
   "metadata": {},
   "outputs": [
    {
     "name": "stdout",
     "output_type": "stream",
     "text": [
      "Help on function renames in module os:\n",
      "\n",
      "renames(old, new)\n",
      "    renames(old, new)\n",
      "    \n",
      "    Super-rename; create directories as necessary and delete any left\n",
      "    empty.  Works like rename, except creation of any intermediate\n",
      "    directories needed to make the new pathname good is attempted\n",
      "    first.  After the rename, directories corresponding to rightmost\n",
      "    path segments of the old name will be pruned until either the\n",
      "    whole path is consumed or a nonempty directory is found.\n",
      "    \n",
      "    Note: this function can fail with the new directory structure made\n",
      "    if you lack permissions needed to unlink the leaf directory or\n",
      "    file.\n",
      "\n",
      "None\n"
     ]
    }
   ],
   "source": [
    "print(help(os.renames))"
   ]
  },
  {
   "cell_type": "code",
   "execution_count": null,
   "id": "62cbea6c",
   "metadata": {},
   "outputs": [],
   "source": []
  }
 ],
 "metadata": {
  "kernelspec": {
   "display_name": "Python 3 (ipykernel)",
   "language": "python",
   "name": "python3"
  },
  "language_info": {
   "codemirror_mode": {
    "name": "ipython",
    "version": 3
   },
   "file_extension": ".py",
   "mimetype": "text/x-python",
   "name": "python",
   "nbconvert_exporter": "python",
   "pygments_lexer": "ipython3",
   "version": "3.9.12"
  }
 },
 "nbformat": 4,
 "nbformat_minor": 5
}
