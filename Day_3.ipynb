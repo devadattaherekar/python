{
 "cells": [
  {
   "cell_type": "code",
   "execution_count": null,
   "id": "555f3ab2",
   "metadata": {},
   "outputs": [],
   "source": [
    "sensex={\n",
    "        \"olectra\":{\"current\":2000,\"high\":2500,\"low\":1500},\n",
    "        \"sun pharma\":{\"current\":1000,\"high\":1500,\"low\":500},\n",
    "        \"hdfc\":{\"current\":2500,\"high\":3000,\"low\":2000}\n",
    "       }\n",
    "print(sensex)\n",
    "print(\"Price of olectra is \",sensex[\"olectra\"],sensex.get(\"olectra\"))\n",
    "print(\"current price of hdfc is \",sensex[\"hdfc\"][\"current\"])\n",
    "sensex[\"hdfc\"][\"current\"]=3500\n",
    "print(\"current price of hdfc is \",sensex[\"hdfc\"][\"current\"])\n",
    "print(\"Poped is \", sensex.pop(\"sun pharma\"))\n",
    "print(sensex)\n",
    "sensex.clear()\n",
    "print(sensex)"
   ]
  },
  {
   "cell_type": "code",
   "execution_count": null,
   "id": "6ddb15bd",
   "metadata": {},
   "outputs": [],
   "source": [
    "print(dir(dict))"
   ]
  },
  {
   "cell_type": "code",
   "execution_count": null,
   "id": "62c820ae",
   "metadata": {},
   "outputs": [],
   "source": [
    "# set is mutable collection of unique unordered hetergeous elements \n",
    "# heteregeous elements within set have to be immutable \n",
    "# set can have int/float/str/None/complex/bool/tuple\n",
    "# set cannot have list/dict/set "
   ]
  },
  {
   "cell_type": "code",
   "execution_count": null,
   "id": "95df64b1",
   "metadata": {},
   "outputs": [],
   "source": [
    "myset={10,4.5,\"tomtom\",None,True,(10+2j),(10,20),\"tomtom\",\"tomtom\"}\n",
    "print(myset,type(myset))"
   ]
  },
  {
   "cell_type": "code",
   "execution_count": null,
   "id": "4ff5da74",
   "metadata": {},
   "outputs": [],
   "source": [
    "companies={\"wipro\",\"tcs\",\"infosys\",\"ibm\",\"tomtom\",\"tomtom\",\"vodafone\",\"tomtom\"}\n",
    "print(companies)\n",
    "print(companies.add(\"dassault\"))\n",
    "print(companies.add(\"eaton\"))\n",
    "print(companies)\n",
    "print(\"Pop takes out some random element from set\",companies.pop())\n",
    "companies.remove(\"ibm\")\n",
    "companies.discard(\"tcs\")\n",
    "print(companies)\n",
    "try:\n",
    "    companies.remove(\"vinsys\")\n",
    "except KeyError as msg:\n",
    "    print(\"Element is not present in set\")\n",
    "companies.discard(\"mercedez benz\")\n",
    "itcompanies={\"fundtech\",\"cts\"}\n",
    "companies.update(itcompanies)\n",
    "companies.add(\"TOMTOM\")\n",
    "print(companies)"
   ]
  },
  {
   "cell_type": "code",
   "execution_count": null,
   "id": "ad7c682a",
   "metadata": {},
   "outputs": [],
   "source": [
    "print(dir(set))"
   ]
  },
  {
   "cell_type": "code",
   "execution_count": null,
   "id": "be56961f",
   "metadata": {},
   "outputs": [],
   "source": [
    "Indian={\"rohit\",\"hardik\",\"sky\",\"bumrah\",\"ashwin\",\"shami\"}\n",
    "Australia={\"smith\",\"maxwell\",\"warner\",\"cummins\",\"starc\"}\n",
    "WestIndies={\"pollard\",\"gayle\",\"russel\",\"cortell\",\"bravo\"}\n",
    "Batters={\"rohit\",\"hardik\",\"sky\", \"smith\",\"maxwell\",\"warner\",\"pollard\",\"gayle\",\"russel\"}\n",
    "Cricketers={\"rohit\",\"hardik\",\"sky\",\"bumrah\",\"ashwin\",\"shami\",\n",
    "           \"smith\",\"maxwell\",\"warner\",\"cummins\",\"starc\",\n",
    "            \"pollard\",\"gayle\",\"russel\",\"cortell\",\"bravo\"\n",
    "           }\n",
    "print(Indian.issubset(Cricketers))\n",
    "print(Cricketers.issuperset(Australia))\n",
    "print(Australia.isdisjoint(WestIndies))\n",
    "print(Indian.union(Australia).union(WestIndies)==Cricketers)\n",
    "print(\"Indian Batters are \",Indian.intersection(Batters))\n",
    "print(Indian.intersection(Batters)==Batters.intersection(Indian))\n",
    "print(\"Indian NonBatters are \",Indian.difference(Batters))\n",
    "print(\"Uncommon players from both Indian and Batters are \",Indian.symmetric_difference(Batters))"
   ]
  },
  {
   "cell_type": "code",
   "execution_count": null,
   "id": "b191dba4",
   "metadata": {},
   "outputs": [],
   "source": [
    "Indian={\"rohit\",\"hardik\",\"sky\",\"bumrah\",\"ashwin\",\"shami\"}\n",
    "Indian.add(\"virat\")\n",
    "print(Indian)\n",
    "print(dir(Indian))\n",
    "Indian=frozenset(Indian) # creates a immutable set\n",
    "#Indian.add(\"sanju samson\") #AttributeError: 'frozenset' object has no attribute 'add'\n",
    "print(Indian)\n",
    "print(dir(Indian))"
   ]
  },
  {
   "cell_type": "code",
   "execution_count": null,
   "id": "e0129095",
   "metadata": {},
   "outputs": [],
   "source": [
    "cricketers={10:\"sachin\",99:\"sehwag\"}\n",
    "print(dir(cricketers))\n",
    "print(cricketers)\n",
    "cricketers=frozenset(cricketers) # convert your mutable dict into immutable set with only keys!\n",
    "#cricketers[10]=\"hardik\" # TypeError: 'frozenset' object does not support item assignment\n",
    "print(dir(cricketers)) \n",
    "#print(cricketers[10]) # TypeError: 'frozenset' object is not subscriptable # bez it is a set now\n",
    "print(cricketers)\n",
    "for keys in cricketers:\n",
    "    print(keys,end=\" \")"
   ]
  },
  {
   "cell_type": "code",
   "execution_count": null,
   "id": "76ca60d1",
   "metadata": {},
   "outputs": [],
   "source": [
    "cricketers={\"virat\",\"rohit\"}\n",
    "Batters={\"hardik\",\"sky\"}\n",
    "cricketers.update(Batters)\n",
    "print(cricketers)\n",
    "cricketers.update(Batters)\n",
    "print(cricketers)"
   ]
  },
  {
   "cell_type": "code",
   "execution_count": null,
   "id": "0a3f9c93",
   "metadata": {},
   "outputs": [],
   "source": [
    "# control statments\n",
    "# 1. sequential\n",
    "# 2. conditonal\n",
    "     #(a) selection (Branching) if: else: elif: \n",
    "     #(b) iteration (Looping)  while: for:\n",
    "# 3. unconditional # break continue"
   ]
  },
  {
   "cell_type": "code",
   "execution_count": null,
   "id": "df60d742",
   "metadata": {},
   "outputs": [],
   "source": [
    "var1,var2=100,200\n",
    "if var1 > var2: # relational operator > < >= <= == !=\n",
    "    print(f\"{var1} is greater\")\n",
    "else:\n",
    "    print(f\"{var2} is greater\")\n",
    "print(f\"Max is {max(var1,var2)}\")"
   ]
  },
  {
   "cell_type": "code",
   "execution_count": null,
   "id": "4e35ad20",
   "metadata": {},
   "outputs": [],
   "source": [
    "# logical operators are and/or/not if you have 2 or more conditons!\n",
    "var1,var2,var3=100,200,300\n",
    "\n",
    "if var1 > var2 and var1 > var3:\n",
    "    print(f\"{var1} is greater\")\n",
    "elif var2 > var1 and var2 > var3:\n",
    "    print(f\"{var2} is greater\")\n",
    "else:\n",
    "    print(f\"{var3} is greater\")\n",
    "    \n",
    "print(f\"Max is {max(var1,var2,var3)}\")"
   ]
  },
  {
   "cell_type": "code",
   "execution_count": null,
   "id": "2676b714",
   "metadata": {},
   "outputs": [],
   "source": [
    "# operators can be chained in python!\n",
    "var1,var2,var3=100,200,300\n",
    "\n",
    "if var1 > var2 > var3:\n",
    "    print(f\"{var1} is greater\")\n",
    "elif var2 > var1 > var3:\n",
    "    print(f\"{var2} is greater\")\n",
    "else:\n",
    "    print(f\"{var3} is greater\")"
   ]
  },
  {
   "cell_type": "code",
   "execution_count": null,
   "id": "6fcb2fda",
   "metadata": {},
   "outputs": [],
   "source": [
    "a,b,c=3,3,3\n",
    "if a==b==c:\n",
    "    print(\"equal\")\n",
    "else:\n",
    "    print(\"Not equal\")"
   ]
  },
  {
   "cell_type": "code",
   "execution_count": null,
   "id": "7a0a8530",
   "metadata": {},
   "outputs": [],
   "source": [
    "var1,var2,var3=100,200,300\n",
    "\n",
    "if var1 > var2:\n",
    "    if var1 > var3:\n",
    "        print(f\"{var1} is greater\")\n",
    "    else:\n",
    "        print(f\"{var3} is greater\")\n",
    "else:\n",
    "    if var2 > var3:\n",
    "        print(f\"{var2} is greater\")\n",
    "    else:\n",
    "        print(f\"{var3} is greater\")\n",
    "print(f\"Max is {max(var1,var2,var3)}\")"
   ]
  },
  {
   "cell_type": "code",
   "execution_count": null,
   "id": "8c02dea3",
   "metadata": {},
   "outputs": [],
   "source": [
    "collection=[0,False,0.0,[],set(),{},(),-9]\n",
    "if any((0,False,0.0,[],set(),{},(),-9)):\n",
    "    print(\"returns True\")\n",
    "else:\n",
    "    print(\"return False\")"
   ]
  },
  {
   "cell_type": "code",
   "execution_count": null,
   "id": "63bbed69",
   "metadata": {},
   "outputs": [],
   "source": [
    "if 10>20 or 500>100 or 50>60: # c style\n",
    "    print(\"or requires one of the conditions to be True\")\n",
    "if any([10>20,500>100,50>60]): # pythonic way!\n",
    "    print(\"or requires one of the conditions to be True\")\n",
    "if 20>10 and 500>100 and 60>20: # c style\n",
    "    print(\"and requires all conditions to be True\")\n",
    "if all({20>10,500>100,60>20}): # pythonic way!\n",
    "    print(\"and requires all conditions to be True\")"
   ]
  },
  {
   "cell_type": "code",
   "execution_count": null,
   "id": "fdfd1624",
   "metadata": {},
   "outputs": [],
   "source": [
    "# identity operators (data types of objects) it has nothing to do with values\n",
    "# is / is not\n",
    "employees=[\"vinay\",\"ashwini\"]\n",
    "\n",
    "if type(employees) is list:\n",
    "    print(\"You are using list\")\n",
    "if type(employees) is not tuple:\n",
    "    print(\"You are not using tuple for sure!\")"
   ]
  },
  {
   "cell_type": "code",
   "execution_count": null,
   "id": "992dc9be",
   "metadata": {},
   "outputs": [],
   "source": [
    "# membership operators (searching a value within dataset(collection), file, etc...)\n",
    "# in / not in (values are searched within collection!)\n",
    "admin_users=[\"root\",\"admin\",\"adminstrator\"]\n",
    "user=input(\"Enter your user name : \")\n",
    "if user in admin_users: # search in collection\n",
    "    print(\"You have full privileges\")\n",
    "else:\n",
    "    print(\"You have guest privileges!\")"
   ]
  },
  {
   "cell_type": "code",
   "execution_count": null,
   "id": "b41cb9b4",
   "metadata": {},
   "outputs": [],
   "source": [
    "admin_users=[\"root\",\"admin\",\"adminstrator\"]\n",
    "user=input(\"Enter your user name : \")\n",
    "if user in admin_users: # search in collection\n",
    "    print(\"You have full privileges\")\n",
    "else:\n",
    "    print(\"You have guest privileges!\")"
   ]
  },
  {
   "cell_type": "code",
   "execution_count": null,
   "id": "c8e5fef6",
   "metadata": {},
   "outputs": [],
   "source": [
    "versions=[3.6,3.7,3.8,3.9]\n",
    "\n",
    "current_version=float(input(\"Enter your version \"))\n",
    "\n",
    "if current_version not in versions:\n",
    "    print(\"Please use str.format() only!\")\n",
    "else:\n",
    "    print(\"You can use f-strings in your version!\")"
   ]
  },
  {
   "cell_type": "code",
   "execution_count": null,
   "id": "c7d9b50d",
   "metadata": {},
   "outputs": [],
   "source": [
    "num=int(input(\"Enter the number :\"))\n",
    "\"\"\"\n",
    "fact=1\n",
    "while num > 0:\n",
    "    fact*=num\n",
    "    num-=1\n",
    "print(f\"Factorial is {fact}\")\n",
    "\"\"\"\n",
    "import math\n",
    "print(f\"Factorail is {math.factorial(num)}\")"
   ]
  },
  {
   "cell_type": "code",
   "execution_count": null,
   "id": "4c427142",
   "metadata": {},
   "outputs": [],
   "source": [
    "num=int(input(\"Enter the number :\"))\n",
    "\n",
    "i=2 # cstyle!\n",
    "while num > i:\n",
    "    if num % i == 0:\n",
    "        print(\"Not prime\")\n",
    "        break\n",
    "    i+=1\n",
    "if num==i:\n",
    "    print(\"prime\")\n",
    "    \n",
    "import sympy   # pythonic way\n",
    "if sympy.isprime(num):\n",
    "    print(f\"{num} is prime\")\n",
    "else:\n",
    "    print(f\"{num} is not prime!\")"
   ]
  },
  {
   "cell_type": "code",
   "execution_count": null,
   "id": "3877fc0c",
   "metadata": {},
   "outputs": [],
   "source": [
    "# generate first 25 prime numbers\n",
    "# generate armstrong numbers between range 1 to 1000 \n",
    "  #e.g.(1*1*1)+(5*5*5)+(3*3*3)==153 \n",
    "# type of triangle if triangle is possible (equilateral,isoseles and scalene)"
   ]
  },
  {
   "cell_type": "code",
   "execution_count": null,
   "id": "0f8d149f",
   "metadata": {},
   "outputs": [],
   "source": [
    "list1=[10,20,30]\n",
    "print(list1)\n",
    "for items in list1:\n",
    "    print(items,end=\" \")\n",
    "print(\" \")\n",
    "tuple1=(10,20,30)\n",
    "print(tuple1)\n",
    "for items in tuple1:\n",
    "    print(items,end=\" \")\n",
    "print(\" \")\n",
    "set1={10,20,30,40,50}\n",
    "print(set1)\n",
    "for items in set1:\n",
    "    print(items,end=\"\\t\")\n",
    "print(\" \")\n",
    "India={\"karnataka\":\"bangalore\",\"tamilnadu\":\"chennai\",\"maharasthra\":\"mumbai\"}\n",
    "for states in India: # only keys\n",
    "    print(states,end=\" \")\n",
    "print(\" \")\n",
    "for states in India.keys(): # only keys\n",
    "    print(states,end=\" \")\n",
    "print(\" \")\n",
    "for states in India: # only values\n",
    "    print(India[states],end=\" \")\n",
    "print(\" \")\n",
    "for states in India.values(): # only values\n",
    "    print(states,end=\" \")\n",
    "print(\" \")\n",
    "for states in India.items(): # list of tuples [(key:value)]\n",
    "    print(f\"{states[1]} city is in {states[0]} state\")\n",
    "print(\" \")\n",
    "for state,city in India.items(): # list of tuples [(key:value)]\n",
    "    print(f\"{city} city is in {state} state\")"
   ]
  },
  {
   "cell_type": "code",
   "execution_count": null,
   "id": "aafc65a5",
   "metadata": {},
   "outputs": [],
   "source": [
    "India={\"karnataka\":\"bangalore\",\"tamilnadu\":\"chennai\",\"maharasthra\":\"mumbai\"}\n",
    "\n",
    "mylist=India.keys() # return list of only keys\n",
    "mylist=list(mylist) # converted into list\n",
    "mylist=mylist[0:2] # using index slicing take only first two keys\n",
    "print(mylist)\n",
    "for state in mylist: # iterate list \n",
    "    print(India[state],state) # pass key as arg to dictionary!"
   ]
  },
  {
   "cell_type": "code",
   "execution_count": null,
   "id": "d64a0309",
   "metadata": {},
   "outputs": [],
   "source": []
  }
 ],
 "metadata": {
  "kernelspec": {
   "display_name": "Python 3 (ipykernel)",
   "language": "python",
   "name": "python3"
  },
  "language_info": {
   "codemirror_mode": {
    "name": "ipython",
    "version": 3
   },
   "file_extension": ".py",
   "mimetype": "text/x-python",
   "name": "python",
   "nbconvert_exporter": "python",
   "pygments_lexer": "ipython3",
   "version": "3.9.12"
  }
 },
 "nbformat": 4,
 "nbformat_minor": 5
}
