{
 "cells": [
  {
   "cell_type": "code",
   "execution_count": null,
   "id": "4c61d3ad",
   "metadata": {},
   "outputs": [],
   "source": [
    "import re\n",
    "\n",
    "#print(dir(re))\n",
    "test_string=\"may the source be with you. may GOD bless everyone\"\n",
    "pattern=\"^may\"\n",
    "print(re.findall(pattern,test_string))"
   ]
  },
  {
   "cell_type": "code",
   "execution_count": null,
   "id": "53bc1c3c",
   "metadata": {},
   "outputs": [],
   "source": [
    "import re\n",
    "\n",
    "test_string=\"ABCDE1234E\"\n",
    "pattern=\"[A-Za-z]{5}\"\n",
    "print(re.findall(pattern,test_string))\n",
    "pattern=\"[A-Za-z]{5}[0-9]{4}\"\n",
    "print(re.findall(pattern,test_string))\n",
    "pattern=\"^[A-Za-z]{5}[0-9]{4}[a-zA-Z]{1}$\"\n",
    "print(re.findall(pattern,test_string))"
   ]
  },
  {
   "cell_type": "code",
   "execution_count": null,
   "id": "5ec5bb7c",
   "metadata": {},
   "outputs": [],
   "source": [
    "import re\n",
    "\n",
    "test_string=\"ac abc abbc abbbc blahabc abcblah abcabc\"\n",
    "pattern=\"abc\"\n",
    "print(re.findall(pattern,test_string))\n",
    "pattern=\"a.c\"\n",
    "print(re.findall(pattern,test_string))\n",
    "pattern=\"ab*c\"\n",
    "print(re.findall(pattern,test_string))\n",
    "pattern=\"ab+c\"\n",
    "print(re.findall(pattern,test_string))\n",
    "pattern=\"ab?c\"\n",
    "print(re.findall(pattern,test_string))"
   ]
  },
  {
   "cell_type": "code",
   "execution_count": null,
   "id": "ad6c5c69",
   "metadata": {},
   "outputs": [],
   "source": [
    "ip_address=\"192.168.10.11\"\n",
    "pattern=\"^\\d{1,3}.\\d{1,3}.\\d{1,3}.\\d{1,3}$\"\n",
    "print(re.findall(pattern,ip_address))"
   ]
  },
  {
   "cell_type": "code",
   "execution_count": null,
   "id": "93b513c6",
   "metadata": {},
   "outputs": [],
   "source": [
    "import re\n",
    "\n",
    "test_string=\"python is easy, python is dynamic and python is wonderful\"\n",
    "pattern=\",|and\"\n",
    "print(re.split(pattern,test_string))"
   ]
  },
  {
   "cell_type": "code",
   "execution_count": null,
   "id": "4595c9b5",
   "metadata": {},
   "outputs": [],
   "source": [
    "import re\n",
    "import json\n",
    "\n",
    "test_string='{\"connectorType\":8,\"evPowerSupply\":2,\"evChargingCurrent\":12,\"isOutlet\":true,\"evChargingVoltage\":230,\"multipleOccurrences\":1,\"evChargingPower\":2800}'\n",
    "#pattern=\"\"\n",
    "#print(re.split(pattern,test_string))\n",
    "print(type(test_string))\n",
    "json_dict=json.loads(test_string)\n",
    "print(type(json_dict))\n",
    "print(json_dict)"
   ]
  },
  {
   "cell_type": "code",
   "execution_count": null,
   "id": "00890936",
   "metadata": {},
   "outputs": [],
   "source": [
    "fact=\"python had 2 versions earlier python2 and python3 python\"\n",
    "#pattern=\"kubernetes\"\n",
    "pattern=\"python\"\n",
    "\n",
    "#print(re.match(pattern,fact)) # will always return first match as an object\n",
    "\n",
    "# re.match() returns None if match not present in test string\n",
    "if re.match(pattern,fact):\n",
    "    first_match=re.match(pattern,fact)\n",
    "    print(first_match.start()) # 0\n",
    "    print(first_match.end()) # 6\n",
    "    print(first_match.group()) # python\n",
    "else:\n",
    "    print(\"string is not present!\")"
   ]
  },
  {
   "cell_type": "code",
   "execution_count": null,
   "id": "0e051a41",
   "metadata": {},
   "outputs": [],
   "source": [
    "fact=\"had 2 versions earlier python2 and python3 python\"\n",
    "pattern=\"python\"\n",
    "print(re.search(pattern,fact)) # search can search any where\n",
    "print(re.match(pattern,fact)) # match will only work if it is at beginning"
   ]
  },
  {
   "cell_type": "code",
   "execution_count": 3,
   "id": "1fc48055",
   "metadata": {},
   "outputs": [
    {
     "name": "stdout",
     "output_type": "stream",
     "text": [
      "python had 2 versions earlier gis and gis python\n",
      "python had 2 versions earlier python2 and python3 python\n",
      "gis had 2 versions earlier gis2 and gis3 gis\n",
      "gis had 2 versions earlier python2 and python3 python\n",
      "gis had 2 versions earlier gis2 and python3 python\n",
      "accenture had 2 versions earlier accenture2 and accenture3 accenture\n"
     ]
    }
   ],
   "source": [
    "import re\n",
    "\n",
    "fact=\"python had 2 versions earlier python2 and python3 python\"\n",
    "pattern=\"python[23]\"\n",
    "\n",
    "#print(re.findall(pattern,fact,re.I))\n",
    "print(re.sub(pattern,\"gis\",fact))\n",
    "print(fact)\n",
    "\n",
    "pattern=\"python\"\n",
    "print(re.sub(pattern,\"gis\",fact))\n",
    "print(re.sub(pattern,\"gis\",fact,count=1))\n",
    "print(re.sub(pattern,\"gis\",fact,count=2))\n",
    "\n",
    "pattern=\"python\"\n",
    "obj=re.compile(pattern)\n",
    "print(obj.sub(\"accenture\",fact))"
   ]
  },
  {
   "cell_type": "code",
   "execution_count": null,
   "id": "a44522b2",
   "metadata": {},
   "outputs": [],
   "source": [
    "import re\n",
    "\n",
    "test_string=\"python had 2 versions earlier python2 and python3 python\"\n",
    "pattern=\"python[23]\"\n",
    "\n",
    "#print(list(re.finditer(pattern,fact)))\n",
    "\n",
    "for search_string in re.finditer(pattern,test_string):\n",
    "    print(search_string.start(), search_string.end(),search_string.group())"
   ]
  },
  {
   "cell_type": "code",
   "execution_count": 2,
   "id": "23580c14",
   "metadata": {},
   "outputs": [
    {
     "name": "stdout",
     "output_type": "stream",
     "text": [
      "<re.Match object; span=(14, 15), match=','>\n",
      "<re.Match object; span=(0, 6), match='python'>\n",
      "<re.Match object; span=(14, 15), match=','>\n",
      "<re.Match object; span=(0, 6), match='python'>\n"
     ]
    }
   ],
   "source": [
    "import re\n",
    "\n",
    "test_string=\"python is easy, python is dynamic and python is wonderful\"\n",
    "pattern=\",|and\"\n",
    "print(re.search(pattern,test_string))\n",
    "pattern=\"python\"\n",
    "print(re.match(pattern,test_string))\n",
    "\n",
    "pattern=\",|and\"\n",
    "obj=re.compile(pattern)\n",
    "print(obj.search(test_string))\n",
    "\n",
    "pattern=\"python\"\n",
    "obj=re.compile(pattern)\n",
    "print(obj.match(test_string))"
   ]
  },
  {
   "cell_type": "code",
   "execution_count": null,
   "id": "73dfb3a9",
   "metadata": {},
   "outputs": [],
   "source": []
  }
 ],
 "metadata": {
  "kernelspec": {
   "display_name": "Python 3 (ipykernel)",
   "language": "python",
   "name": "python3"
  },
  "language_info": {
   "codemirror_mode": {
    "name": "ipython",
    "version": 3
   },
   "file_extension": ".py",
   "mimetype": "text/x-python",
   "name": "python",
   "nbconvert_exporter": "python",
   "pygments_lexer": "ipython3",
   "version": "3.9.12"
  }
 },
 "nbformat": 4,
 "nbformat_minor": 5
}
