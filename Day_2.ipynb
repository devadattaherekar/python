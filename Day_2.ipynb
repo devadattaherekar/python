{
 "cells": [
  {
   "cell_type": "code",
   "execution_count": null,
   "id": "d18f2ee0",
   "metadata": {},
   "outputs": [],
   "source": [
    "fact1=\"\"\"python supports mutiple variable assignments\n",
    "e.g. emp_id,emp_name,emp_sal=1000,\"Ishwar\",999999\n",
    "e.g. produt,price=\"laptop\",100000\n",
    "\"\"\"\n",
    "print(fact1.count(\"p\"))\n",
    "print(fact1.count(\"e.g\"))\n",
    "print(\"Total number of strings \",len(fact1),fact1.__len__())\n",
    "print(fact1.find(\"e.g\"))\n",
    "print(fact1.find(\"e.g\",46))\n",
    "print(fact1.index(\"e.g\"))\n",
    "print(fact1.index(\"e.g\",46))\n",
    "print(fact1.find(\"ansible\")) # if substring is not present find returns -1\n",
    "try:\n",
    "    print(fact1.index(\"ansible\"))\n",
    "except ValueError as msg:\n",
    "    print(msg)"
   ]
  },
  {
   "cell_type": "code",
   "execution_count": null,
   "id": "3c97c163",
   "metadata": {},
   "outputs": [],
   "source": [
    "data=\"     python is python      \"\n",
    "print(data)\n",
    "data=data.strip(\" \")\n",
    "print(data)\n",
    "print(data.strip(\"python\"))\n",
    "print(data.lstrip(\"python\"))\n",
    "print(data.rstrip(\"python\"))\n"
   ]
  },
  {
   "cell_type": "code",
   "execution_count": null,
   "id": "00a9f21b",
   "metadata": {},
   "outputs": [],
   "source": [
    "data=\"ipython3.6\"\n",
    "version=float(data.strip(\"ipython\"))\n",
    "print(f\"version of python is {version}\")\n",
    "language=data.strip(\"i\").strip(\"3.6\")\n",
    "print(f\"language is {language}\")"
   ]
  },
  {
   "cell_type": "code",
   "execution_count": null,
   "id": "81d47b1f",
   "metadata": {},
   "outputs": [],
   "source": [
    "price=\"Rs 35,00,000.50/-\"\n",
    "price=price.strip(\"Rs\").strip(\"/-\")\n",
    "price=float(price.replace(\",\",\"\"))\n",
    "print(f\"Price is {price} type is {type(price)}\")"
   ]
  },
  {
   "cell_type": "code",
   "execution_count": null,
   "id": "cd7a9d28",
   "metadata": {},
   "outputs": [],
   "source": [
    "mystring=\"python is easy and python is beautiful\"\n",
    "print(mystring.replace(\"python\",\"ansible\"))\n",
    "print(\"insert into table values (%s,%s,%s)\".replace('(%s,%s,%s)','(10,20,\"tomtom\")'))"
   ]
  },
  {
   "cell_type": "code",
   "execution_count": null,
   "id": "823ab3a8",
   "metadata": {},
   "outputs": [],
   "source": [
    "# collections (data structures)\n",
    "# On data you perform 4 basic operations CRUD (create read update delete)\n",
    "# list [] tuple () dict {key:value} set{}\n",
    "# list is mutable collection of heterogeous elements\n",
    "# any operations or functions that you perform on list works on the same memory location"
   ]
  },
  {
   "cell_type": "code",
   "execution_count": null,
   "id": "2b812378",
   "metadata": {},
   "outputs": [],
   "source": [
    "list1=[1000,\"sachin\",(1+5j),True,None,56.78]\n",
    "print(list1)\n",
    "print(\"First element is \",list1[0])\n",
    "print(\"last element is \",list1[-1])\n",
    "print(\"second and third\",list1[1:3] )"
   ]
  },
  {
   "cell_type": "code",
   "execution_count": null,
   "id": "340c932a",
   "metadata": {},
   "outputs": [],
   "source": [
    "banks=[\"axis\",\"kotak\"]\n",
    "print(type(banks),id(banks),banks)\n",
    "banks.append(\"bob\")\n",
    "print(type(banks),id(banks),banks)\n",
    "banks.insert(0,\"pnb\")\n",
    "banks.insert(2,\"dueshe bank\")\n",
    "print(type(banks),id(banks),banks)\n",
    "#newbanks=banks # shallow copy # assign one reference to another reference\n",
    "newbanks=banks.copy() # deep copy # creates a new memory location with actual contents\n",
    "print(newbanks,id(newbanks))\n",
    "banks.clear()\n",
    "print(newbanks,id(newbanks))\n",
    "mybanks=[\"icici\",\"idbi\",\"sbi\"]\n",
    "newbanks.append(mybanks)\n",
    "print(newbanks)\n",
    "print(newbanks[5],newbanks[-1])\n",
    "print(newbanks[5][2],newbanks[-1][-1])"
   ]
  },
  {
   "cell_type": "code",
   "execution_count": null,
   "id": "340b6740",
   "metadata": {},
   "outputs": [],
   "source": [
    "print(dir(list))"
   ]
  },
  {
   "cell_type": "code",
   "execution_count": null,
   "id": "0dca8e57",
   "metadata": {},
   "outputs": [],
   "source": [
    "# append / insert / copy / extend\n",
    "\n",
    "list1=[10,20,30]\n",
    "list2=[40,50,60,70]\n",
    "list1.append(list2)\n",
    "print(list1)\n",
    "print(list1[-1])\n",
    "print(list1[-1][-1])"
   ]
  },
  {
   "cell_type": "code",
   "execution_count": null,
   "id": "64868e62",
   "metadata": {},
   "outputs": [],
   "source": [
    "list1=[10,20,30]\n",
    "list2=[40,50,60,70]\n",
    "list1.extend(list2)\n",
    "print(list1)"
   ]
  },
  {
   "cell_type": "code",
   "execution_count": null,
   "id": "cfb6d7fd",
   "metadata": {},
   "outputs": [],
   "source": [
    "banks=[\"axis\",\"kotak\",\"icici\",\"axis\",\"kotak\",\"idbi\",\"dena bank\"]\n",
    "print(banks)\n",
    "banks[1]=\"sbi\" # update elements in list!\n",
    "print(banks)\n",
    "print(\"Total number of banks \",len(banks))\n",
    "print(f'Axis appears {banks.count(\"axis\")} times')\n",
    "print(f'Axis appears at position {banks.index(\"axis\")}')\n",
    "print(f'Axis appears at position {banks.index(\"axis\",1)}')\n",
    "#print(f'Axis appears at position {banks.index(\"yes bank\")}')\n",
    "#banks.sort() # ascending order\n",
    "banks.sort(reverse=True) # descending order\n",
    "print(\"sorted banks are \",banks)\n",
    "banks.reverse()\n",
    "print(\"Reversed elements are \",banks)\n",
    "print(\"Poped bank is \",banks.pop())\n",
    "print(banks)\n",
    "print(\"Poped bank is \",banks.pop(2)) # Note: pop returns poped element\n",
    "print(banks)\n",
    "banks.remove(\"axis\") # Note: remove returns Nonetype\n",
    "print(banks)"
   ]
  },
  {
   "cell_type": "code",
   "execution_count": null,
   "id": "e1b69ac2",
   "metadata": {},
   "outputs": [],
   "source": [
    "print(help(list.pop))"
   ]
  },
  {
   "cell_type": "code",
   "execution_count": null,
   "id": "40ddc1e2",
   "metadata": {},
   "outputs": [],
   "source": [
    "# Note: tuple is immutable collection of heteregous elements!\n",
    "banks=(\"axis\",\"kotak\",\"icici\",\"axis\",\"kotak\",\"idbi\",\"dena bank\")\n",
    "print(banks,type(banks))\n",
    "print(banks[0])\n",
    "print(banks[-1])\n",
    "#banks[0]=\"boi\" #  'tuple' object does not support item assignment\n",
    "#del banks[1]  # 'tuple' object doesn't support item deletion\n",
    "print(banks)\n",
    "print(f'Axis appears {banks.count(\"axis\")} times')\n",
    "print(f'Axis appears at position {banks.index(\"axis\")}')\n",
    "print(f'Axis appears at position {banks.index(\"axis\",1)}')"
   ]
  },
  {
   "cell_type": "code",
   "execution_count": null,
   "id": "e25e40d5",
   "metadata": {},
   "outputs": [],
   "source": [
    "print(dir(tuple))"
   ]
  },
  {
   "cell_type": "code",
   "execution_count": null,
   "id": "90e337a9",
   "metadata": {},
   "outputs": [],
   "source": [
    "nse=(\"tomtom\",\"pune\",1000,5000.50)\n",
    "print(nse)\n",
    "print(f\"company is {nse[0]}\") # use [] to unpack tuple\n",
    "print(f\"location is {nse[1]}\")\n",
    "print(f\"shares is {nse[2]}\")\n",
    "print(f\"price is {nse[3]}\")\n",
    "company,location,shares,price=nse # using multiple variable assingments to unpack list/tuple\n",
    "print(f\"company is {company}\") \n",
    "print(f\"location is {location}\")\n",
    "print(f\"shares is {shares}\")\n",
    "print(f\"price is {price}\")\n",
    "for items in nse: # using for loop unpack values from list/tuple\n",
    "    print(items)"
   ]
  },
  {
   "cell_type": "code",
   "execution_count": null,
   "id": "26bb36bf",
   "metadata": {},
   "outputs": [],
   "source": [
    "x=10 # int\n",
    "print(type(x))\n",
    "x=[] # list\n",
    "print(type(x))\n",
    "x=() # tuple\n",
    "print(type(x))\n",
    "x=[10] # list\n",
    "print(type(x))\n",
    "x=(10) # Note: class int \n",
    "print(type(x))\n",
    "x=(10,) # Note: comma is mandatory to create a tuple with one element!\n",
    "print(type(x))\n",
    "x=10,20,30 # Note: using () is optional for tuple\n",
    "print(type(x))\n",
    "x={} # dict\n",
    "print(type(x))\n",
    "x=set() # set\n",
    "print(type(x))\n",
    "x={10} # set\n",
    "print(type(x))\n",
    "x={10:\"sachin\"} # dict\n",
    "print(type(x))"
   ]
  },
  {
   "cell_type": "code",
   "execution_count": null,
   "id": "9c759463",
   "metadata": {},
   "outputs": [],
   "source": [
    "# All operations CRUD possible on list of lists\n",
    "sensex=[\n",
    "            [\"patni\",1000,567.89],\n",
    "            [\"ibm\",2000,789.89],\n",
    "            [\"accenture\",3000,967.89],\n",
    "            [\"wipro\",4000,667.89]\n",
    "]\n",
    "sensex.insert(0,[\"infosys\",9000,999.99])\n",
    "sensex.append([\"tcs\",8878,567.89]) # insert\n",
    "print(sensex)\n",
    "sensex[1][0]=\"capgemini\"  # update\n",
    "print(sensex)\n",
    "del sensex[2] # delete operation\n",
    "print(sensex)\n",
    "#del sensex[2][-1] # delete value from a row!\n",
    "#print(sensex)"
   ]
  },
  {
   "cell_type": "code",
   "execution_count": null,
   "id": "cbef34e2",
   "metadata": {},
   "outputs": [],
   "source": [
    "# insert/delete  works update will not work\n",
    "sensex=[\n",
    "            (\"patni\",1000,567.89),\n",
    "            [\"ibm\",2000,789.89],\n",
    "            (\"accenture\",3000,967.89),\n",
    "            (\"wipro\",4000,667.89)\n",
    "]\n",
    "sensex.insert(1,(\"cognizant\",5000,123456))\n",
    "print(sensex)\n",
    "sensex[2][0]=\"renishaw\"\n",
    "print(sensex)\n",
    "#del sensex[3][0] # 'tuple' object doesn't support item deletion\n",
    "del sensex[3]\n",
    "print(sensex)\n",
    "sensex[0]=(\"ptc\",1245,567.88)\n",
    "print(sensex)"
   ]
  },
  {
   "cell_type": "code",
   "execution_count": null,
   "id": "1e916570",
   "metadata": {},
   "outputs": [],
   "source": [
    "# insert/delete not possible update is possible\n",
    "mytuple=([1,2,3],[4,5,6])\n",
    "#mytuple[0]=(4,5,6)\n",
    "#del mytuple[1]\n",
    "mytuple[0][0]=100\n",
    "print(mytuple)\n",
    "mytuple[0].append(999)\n",
    "print(mytuple)"
   ]
  },
  {
   "cell_type": "code",
   "execution_count": null,
   "id": "0400d4f4",
   "metadata": {},
   "outputs": [],
   "source": [
    "mytuple=((1,2,3),(4,5,6))\n",
    "print(mytuple)"
   ]
  },
  {
   "cell_type": "code",
   "execution_count": 22,
   "id": "456cbfff",
   "metadata": {},
   "outputs": [
    {
     "name": "stdout",
     "output_type": "stream",
     "text": [
      "{10: 'sachin', 45: 'rohit', 18: 'virat', 7: 'dhoni'}\n",
      "sachin\n",
      "sachin\n",
      "None\n",
      "Key is not present!\n",
      "{10: 'sachin', 45: 'rohit', 18: 'virat', 7: 'dhoni', 333: 'Chris Gayle'}\n",
      "{10: 'sehwag', 45: 'rohit', 18: 'virat', 7: 'dhoni', 333: 'Chris Gayle'}\n",
      "Poped cricketer is  (333, 'Chris Gayle')\n",
      "{10: 'sehwag', 45: 'rohit', 18: 'virat', 7: 'dhoni'}\n",
      "Poped cricketer is  rohit\n",
      "{10: 'sehwag', 18: 'virat', 7: 'dhoni'}\n",
      "{23: 'warne', 1: 'klrahul', 10: 'sehwag', 18: 'virat', 7: 'dhoni'}\n"
     ]
    }
   ],
   "source": [
    "#cricketers={10:\"sachin\",(10+5j):6.712,True:None}\n",
    "\n",
    "cricketers={10:\"sachin\",45:\"rohit\",18:\"virat\",7:\"dhoni\"}\n",
    "print(cricketers)\n",
    "print(cricketers[10]) # use [] with only key to get value from dict\n",
    "print(cricketers.get(10))\n",
    "print(cricketers.get(333)) # if the key is not present get returns None\n",
    "try:\n",
    "    print(cricketers[333]) \n",
    "except KeyError:\n",
    "    print(\"Key is not present!\")\n",
    "\n",
    "cricketers[333]=\"Chris Gayle\" # Put a key which is not present to add key and value in dictionary \n",
    "print(cricketers) # There is no insert/append/add in dict!\n",
    "cricketers[10]=\"sehwag\" # if the key is present then the value gets updated\n",
    "print(cricketers) # update operation\n",
    "print(\"Poped cricketer is \",cricketers.popitem())\n",
    "print(cricketers)\n",
    "print(\"Poped cricketer is \",cricketers.pop(45))\n",
    "print(cricketers)\n",
    "mydream11={23:\"warne\",1:\"klrahul\"}\n",
    "mydream11.update(cricketers)\n",
    "print(mydream11)"
   ]
  },
  {
   "cell_type": "code",
   "execution_count": 3,
   "id": "b41fea1b",
   "metadata": {},
   "outputs": [
    {
     "name": "stdout",
     "output_type": "stream",
     "text": [
      "['__class__', '__class_getitem__', '__contains__', '__delattr__', '__delitem__', '__dir__', '__doc__', '__eq__', '__format__', '__ge__', '__getattribute__', '__getitem__', '__gt__', '__hash__', '__init__', '__init_subclass__', '__ior__', '__iter__', '__le__', '__len__', '__lt__', '__ne__', '__new__', '__or__', '__reduce__', '__reduce_ex__', '__repr__', '__reversed__', '__ror__', '__setattr__', '__setitem__', '__sizeof__', '__str__', '__subclasshook__', 'clear', 'copy', 'fromkeys', 'get', 'items', 'keys', 'pop', 'popitem', 'setdefault', 'update', 'values']\n"
     ]
    }
   ],
   "source": [
    "print(dir(dict))"
   ]
  },
  {
   "cell_type": "code",
   "execution_count": 18,
   "id": "ae76bef6",
   "metadata": {},
   "outputs": [
    {
     "name": "stdout",
     "output_type": "stream",
     "text": [
      "Help on method_descriptor:\n",
      "\n",
      "popitem(self, /)\n",
      "    Remove and return a (key, value) pair as a 2-tuple.\n",
      "    \n",
      "    Pairs are returned in LIFO (last-in, first-out) order.\n",
      "    Raises KeyError if the dict is empty.\n",
      "\n",
      "None\n"
     ]
    }
   ],
   "source": [
    "print(help(dict.popitem))"
   ]
  },
  {
   "cell_type": "code",
   "execution_count": 25,
   "id": "a53ed60e",
   "metadata": {},
   "outputs": [
    {
     "name": "stdout",
     "output_type": "stream",
     "text": [
      "dict_keys([10, 45, 18, 7])\n",
      "dict_values(['sachin', 'rohit', 'virat', 'dhoni'])\n",
      "dict_items([(10, 'sachin'), (45, 'rohit'), (18, 'virat'), (7, 'dhoni')])\n"
     ]
    }
   ],
   "source": [
    "cricketers={10:\"sachin\",45:\"rohit\",18:\"virat\",7:\"dhoni\"}\n",
    "print(cricketers.keys()) # list of only keys\n",
    "print(cricketers.values()) # list of only values\n",
    "print(cricketers.items()) # list of tuples with [(key1,value1),(key2,value2)....]"
   ]
  },
  {
   "cell_type": "code",
   "execution_count": 32,
   "id": "d1f246e1",
   "metadata": {},
   "outputs": [
    {
     "name": "stdout",
     "output_type": "stream",
     "text": [
      "{10: None, 99: None, 45: None, 18: None, 7: None}\n",
      "{10: 'sachin', 99: 'sehwag', 45: 'rohit', 18: 'virat', 7: None}\n",
      "{10: 'sachin', 99: 'sehwag', 45: 'rohit', 18: 'virat', 7: None, 66: 'deepak chahar'}\n"
     ]
    }
   ],
   "source": [
    "jersey=[10,99,45,18,7]\n",
    "dream11=dict.fromkeys(jersey)\n",
    "print(dream11)\n",
    "dream11[10]=\"sachin\"\n",
    "dream11[99]=\"sehwag\"\n",
    "dream11[45]=\"rohit\"\n",
    "dream11[18]=\"virat\"\n",
    "print(dream11)\n",
    "#dream11[18]=\"deepak chahar\"\n",
    "dream11.setdefault(18,\"deepak chahar\") # if key is present value is ignored!\n",
    "dream11.setdefault(66,\"deepak chahar\") # add element if key is not present\n",
    "print(dream11)"
   ]
  },
  {
   "cell_type": "code",
   "execution_count": null,
   "id": "94e76a92",
   "metadata": {},
   "outputs": [],
   "source": []
  }
 ],
 "metadata": {
  "kernelspec": {
   "display_name": "Python 3 (ipykernel)",
   "language": "python",
   "name": "python3"
  },
  "language_info": {
   "codemirror_mode": {
    "name": "ipython",
    "version": 3
   },
   "file_extension": ".py",
   "mimetype": "text/x-python",
   "name": "python",
   "nbconvert_exporter": "python",
   "pygments_lexer": "ipython3",
   "version": "3.9.12"
  }
 },
 "nbformat": 4,
 "nbformat_minor": 5
}
