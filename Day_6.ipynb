{
 "cells": [
  {
   "cell_type": "code",
   "execution_count": null,
   "id": "1505ea79",
   "metadata": {},
   "outputs": [],
   "source": [
    "def custom_function(funcp):\n",
    "    print(\"Custom function called\")\n",
    "    def my_function():\n",
    "        print(\"My function is called\")\n",
    "        funcp()\n",
    "    return my_function\n",
    "\n",
    "@custom_function\n",
    "def function():\n",
    "    print(\"Function called\")\n",
    "    \n",
    "#function()\n",
    "#function=custom_function(function)\n",
    "function()"
   ]
  },
  {
   "cell_type": "code",
   "execution_count": null,
   "id": "21eb61f8",
   "metadata": {},
   "outputs": [],
   "source": [
    "# Decorators are functions which take address of the function to be decorated\n",
    "# and a decorator always returns address of another function (address of inner function)\n",
    "# Through decorator you generate indirect calls to your functions\n",
    "# Direct calls are not allowed !!!\n",
    "\n",
    "def greet_decorator(funcp):\n",
    "    def greet_user():\n",
    "        print(\"Have a good day!\",end=\" \")\n",
    "        funcp() # call to username() function indirectly\n",
    "    return greet_user\n",
    "\n",
    "@greet_decorator\n",
    "def username():\n",
    "    print(\"Kiran\")\n",
    "    \n",
    "#username=greet_decorator(username)\n",
    "username()"
   ]
  },
  {
   "cell_type": "code",
   "execution_count": null,
   "id": "e4cbf201",
   "metadata": {},
   "outputs": [],
   "source": [
    "def divide_decorator(ref): # ref holds address of divide function\n",
    "    def custom_divide(value_1,value_2):\n",
    "        if value_2==0: # if value_2 is zero return None else return result\n",
    "            print(\"Cannot divide by zero!\")\n",
    "            return\n",
    "        return ref(value_1,value_2) # indirect call to divide function\n",
    "    return custom_divide # return address of inner function\n",
    "\n",
    "@divide_decorator\n",
    "def divide(x,y):\n",
    "    return x/y\n",
    "\n",
    "#divide=divide_decorator(divide)\n",
    "print(divide(10,3))\n",
    "divide(10,0)"
   ]
  },
  {
   "cell_type": "code",
   "execution_count": null,
   "id": "691c4e67",
   "metadata": {},
   "outputs": [],
   "source": [
    "admin_users=[\"root\",\"admin\",\"adminstrator\"]\n",
    "username=input(\"Enter your username \")\n",
    "\n",
    "def admin_decorator(show_password):\n",
    "    def check_admin():\n",
    "        if username in admin_users:\n",
    "            return show_password()\n",
    "        else:\n",
    "            return \"You have no privileges!\"\n",
    "    return check_admin\n",
    "\n",
    "@admin_decorator\n",
    "def admin_password():\n",
    "    return \"admin@123\"\n",
    "\n",
    "print(admin_password())"
   ]
  },
  {
   "cell_type": "code",
   "execution_count": null,
   "id": "4a7435c8",
   "metadata": {},
   "outputs": [],
   "source": [
    "def decorator1(funcp):\n",
    "    def compute1():\n",
    "        x=funcp()\n",
    "        return 2*x\n",
    "    return compute1\n",
    "\n",
    "def decorator2(funcp):\n",
    "    def compute2():\n",
    "        x=funcp()\n",
    "        return x*x\n",
    "    return compute2\n",
    "\n",
    "# Note: In case of multiple decorators go from bottom to up\n",
    "# Here decorator1 will be applied first and then decorator2\n",
    "\n",
    "@decorator2\n",
    "@decorator1\n",
    "def num():\n",
    "    return 10\n",
    "\n",
    "print(num())"
   ]
  },
  {
   "cell_type": "code",
   "execution_count": null,
   "id": "bbea6499",
   "metadata": {},
   "outputs": [],
   "source": [
    "def function():\n",
    "    for item in range(1,6):\n",
    "        yield item\n",
    "    \n",
    "print(function())\n",
    "print(list(function()))\n",
    "for num in function():\n",
    "    print(num,end=\" \")\n",
    "print(\" \")\n",
    "ref=function()\n",
    "print(next(ref))\n",
    "print(next(ref))\n",
    "print(next(ref))"
   ]
  },
  {
   "cell_type": "code",
   "execution_count": null,
   "id": "07817efc",
   "metadata": {},
   "outputs": [],
   "source": [
    "\"\"\"\n",
    "def squares():\n",
    "    square_nums=[]\n",
    "    for item in range(1,11):\n",
    "        square_nums.append(item*item)\n",
    "    return square_nums # return iterable\n",
    "\"\"\"\n",
    "def squares():\n",
    "    for item in range(1,11):\n",
    "        yield item*item\n",
    "    \n",
    "print(squares())\n",
    "for num in squares():\n",
    "    print(num,end=\" \")"
   ]
  },
  {
   "cell_type": "code",
   "execution_count": null,
   "id": "65bb416e",
   "metadata": {},
   "outputs": [],
   "source": [
    "\"\"\"\n",
    "def evens(count):\n",
    "    even_list=[]\n",
    "    num=1\n",
    "    while count > 0:\n",
    "        if num%2==0:\n",
    "            even_list.append(num)\n",
    "            count-=1\n",
    "        num+=1\n",
    "    return even_list\n",
    "\"\"\"\n",
    "def evens(count):\n",
    "    num=1\n",
    "    while count > 0:\n",
    "        if num%2==0:\n",
    "            yield num\n",
    "            count-=1\n",
    "        num+=1\n",
    "\n",
    "for item in evens(15):\n",
    "    print(item,end=\" \")"
   ]
  },
  {
   "cell_type": "code",
   "execution_count": null,
   "id": "11a5ea1a",
   "metadata": {},
   "outputs": [],
   "source": [
    "#evens=(num for num in range(1,21) if num%2==0)\n",
    "\n",
    "def evens():\n",
    "    for num in range(1,21):\n",
    "        if num%2==0:\n",
    "            yield num\n",
    "           \n",
    "for value in evens():\n",
    "    print(value,end=\" \")"
   ]
  },
  {
   "cell_type": "code",
   "execution_count": null,
   "id": "6dd881c1",
   "metadata": {},
   "outputs": [],
   "source": [
    "# 0 1 1 2 3 5 ....\n",
    "\"\"\"\n",
    "def fibonacci(count):\n",
    "    fibo_nums=[]\n",
    "    f1=0\n",
    "    f2=1\n",
    "    while count > 0:\n",
    "        fibo_nums.append(f1)\n",
    "        f1,f2=f2,f1+f2\n",
    "        count-=1\n",
    "    return fibo_nums\n",
    "\"\"\"\n",
    "def fibonacci(count):\n",
    "    f1=0\n",
    "    f2=1\n",
    "    while count > 0:\n",
    "        yield f1\n",
    "        f1,f2=f2,f1+f2\n",
    "        count-=1\n",
    "        \n",
    "#print(fibonacci(10))\n",
    "#print(list(fibonacci(10)))\n",
    "print(fibonacci(10))"
   ]
  },
  {
   "cell_type": "code",
   "execution_count": null,
   "id": "0a35b798",
   "metadata": {},
   "outputs": [],
   "source": [
    "company=\"TomTom\"\n",
    "#for chars in company:\n",
    "    #print(chars)\n",
    "ref=iter(company) # Note: use iter() conversion function to convert string object into iterable!\n",
    "print(next(ref))\n",
    "print(next(ref))\n",
    "print(next(ref))\n",
    "print(next(ref))\n",
    "print(next(ref))\n",
    "print(next(ref))"
   ]
  },
  {
   "cell_type": "code",
   "execution_count": null,
   "id": "ad3b9b2c",
   "metadata": {},
   "outputs": [],
   "source": [
    "companies=[\"TomTom\",\"Tieto\",\"Tcs\",\"cognizant\"]\n",
    "ref=iter(companies) # convert list into iterable \n",
    "print(next(ref)) # next iterator can be used on iterable\n",
    "print(next(ref)) \n",
    "print(next(ref)) \n",
    "print(next(ref)) "
   ]
  },
  {
   "cell_type": "code",
   "execution_count": null,
   "id": "f9d8232d",
   "metadata": {},
   "outputs": [],
   "source": [
    "\"\"\"\n",
    "def add(x,y):\n",
    "    return x+y\n",
    "print(add(10,20))\n",
    "\"\"\"\n",
    "print((lambda x,y:x+y)(1000,2000)) # Here lambda is not stored and can be called directly\n",
    "\n",
    "ref=(lambda x,y:x+y)  # Here store lambda into reference \n",
    "print(ref(10,20)) # Through reference call lambda"
   ]
  },
  {
   "cell_type": "code",
   "execution_count": null,
   "id": "484ab0b6",
   "metadata": {},
   "outputs": [],
   "source": [
    "\"\"\"\n",
    "def foo():\n",
    "    print(\"foo called\")    \n",
    "foo()\n",
    "\"\"\"\n",
    "(lambda:print(\"foo called\"))()\n",
    "\n",
    "ref=(lambda:print(\"foo called\"))\n",
    "ref()"
   ]
  },
  {
   "cell_type": "code",
   "execution_count": null,
   "id": "d62a19f2",
   "metadata": {},
   "outputs": [],
   "source": [
    "companies=[\"tomtom\",\"infosys\",\"wipro\",\"tcs\",\"tieto\",\"tata\",\"cts\",\"ibm\"]\n",
    "\n",
    "def start_with_t(company):\n",
    "    return company.startswith('t')\n",
    "\n",
    "# filter returns generator \n",
    "# filter takes 2 args, first arg is address of the function which returns boolean value\n",
    "# second arg is iterable (collection)\n",
    "print(filter(start_with_t,companies))\n",
    "\n",
    "#print(list(filter(start_with_t,companies)))\n",
    "\n",
    "#ref=filter(start_with_t,companies)\n",
    "#print(next(ref))\n",
    "\n",
    "for company in filter(start_with_t,companies):\n",
    "    print(company,end=\" \")\n",
    "print(\" \")\n",
    "for company in filter(lambda company:company.startswith('t'),companies):\n",
    "    print(company,end=\" \")\n",
    "print(\" \")  \n",
    "def custom_filter(funcp,iterable):\n",
    "    for company in iterable:\n",
    "         if funcp(company):\n",
    "                yield company\n",
    "for company in custom_filter(start_with_t,companies):\n",
    "    print(company,end=\" \")\n",
    "print(\" \")\n",
    "for company in custom_filter(lambda company:company.startswith('t'),companies):\n",
    "    print(company,end=\" \")\n",
    "print(\" \")\n",
    "gen_companies_t=(company for company in companies if company.startswith('t'))\n",
    "for company in gen_companies_t:\n",
    "    print(company,end=\" \")"
   ]
  },
  {
   "cell_type": "code",
   "execution_count": 6,
   "id": "9ea26e4a",
   "metadata": {},
   "outputs": [
    {
     "name": "stdout",
     "output_type": "stream",
     "text": [
      "2 4 6 8 10 12 14 16 18 20  \n",
      "2 4 6 8 10 12 14 16 18 20  \n",
      "2 4 6 8 10 12 14 16 18 20  \n",
      "2 4 6 8 10 12 14 16 18 20 "
     ]
    }
   ],
   "source": [
    "evens=(num for num in range(1,21)if num%2==0)\n",
    "for even in evens:\n",
    "    print(even,end=\" \")\n",
    "\n",
    "print(\" \")\n",
    "\n",
    "numbers=[1,2,3,4,5,6,7,8,9,10,11,12,13,14,15,16,17,18,19,20]\n",
    "def check_evens(num):\n",
    "    \"\"\"\n",
    "    if num%2==0:\n",
    "        return True\n",
    "    else:\n",
    "        return False\n",
    "    \"\"\"\n",
    "    return num%2==0\n",
    "\n",
    "#print(list(filter(check_evens,numbers)))\n",
    "for even_nos in filter(check_evens,numbers):\n",
    "    print(even_nos,end=\" \")\n",
    "print(\" \")\n",
    "\n",
    "def my_even_nos():\n",
    "    for num in range(1,21):\n",
    "        if num%2==0:\n",
    "            yield num\n",
    "for even in my_even_nos():\n",
    "    print(even,end=\" \")           \n",
    "print(\" \")\n",
    "for number in filter(lambda number:number%2==0,numbers):\n",
    "    print(number,end=\" \")"
   ]
  },
  {
   "cell_type": "code",
   "execution_count": 12,
   "id": "d2ab524a",
   "metadata": {},
   "outputs": [
    {
     "name": "stdout",
     "output_type": "stream",
     "text": [
      "<map object at 0x000002C6E642A550>\n",
      "1 4 9 16 25 36 49 64 81 100  \n",
      "1 4 9 16 25 36 49 64 81 100  \n",
      "1 4 9 16 25 36 49 64 81 100 "
     ]
    }
   ],
   "source": [
    "numbers=[1,2,3,4,5,6,7,8,9,10]\n",
    "\n",
    "def squares(num):\n",
    "    return num*num\n",
    "\n",
    "# Note: map also takes 2 args and returns generator!\n",
    "# first arg is address of the function which can return any value \n",
    "# second arg is collection or iterable!\n",
    "print(map(squares,numbers))\n",
    "for square in map(squares,numbers):\n",
    "    print(square,end=\" \")\n",
    "print(\" \")\n",
    "for square in map(lambda num: num*num,numbers):\n",
    "    print(square,end=\" \")\n",
    "print(\" \")\n",
    "for square in (value*value for value in numbers):\n",
    "    print(square,end=\" \")"
   ]
  },
  {
   "cell_type": "code",
   "execution_count": 15,
   "id": "37c669fd",
   "metadata": {},
   "outputs": [
    {
     "name": "stdout",
     "output_type": "stream",
     "text": [
      "tomtom wipro tcs tieto tata  \n"
     ]
    }
   ],
   "source": [
    "companies=[\"tomtom\",\"infosys\",\"wipro\",\"tcs\",\"tieto\",\"tata\",\"cts\",\"ibm\"]\n",
    "\n",
    "def start_with_t_w(company):\n",
    "    return company.startswith('t') or company.startswith('w')\n",
    "\n",
    "for company in filter(start_with_t_w,companies):\n",
    "    print(company,end=\" \")\n",
    "print(\" \")"
   ]
  },
  {
   "cell_type": "code",
   "execution_count": null,
   "id": "45214ddf",
   "metadata": {},
   "outputs": [],
   "source": []
  }
 ],
 "metadata": {
  "kernelspec": {
   "display_name": "Python 3 (ipykernel)",
   "language": "python",
   "name": "python3"
  },
  "language_info": {
   "codemirror_mode": {
    "name": "ipython",
    "version": 3
   },
   "file_extension": ".py",
   "mimetype": "text/x-python",
   "name": "python",
   "nbconvert_exporter": "python",
   "pygments_lexer": "ipython3",
   "version": "3.9.12"
  }
 },
 "nbformat": 4,
 "nbformat_minor": 5
}
